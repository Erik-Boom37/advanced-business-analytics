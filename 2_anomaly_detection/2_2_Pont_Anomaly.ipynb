{
 "cells": [
  {
   "cell_type": "markdown",
   "metadata": {},
   "source": [
    "# Anomaly Detection - Kmeans"
   ]
  },
  {
   "cell_type": "code",
   "execution_count": 1,
   "metadata": {},
   "outputs": [
    {
     "name": "stderr",
     "output_type": "stream",
     "text": [
      "/Users/pedrohserrano/anaconda3/envs/py36/lib/python3.6/site-packages/h5py/__init__.py:36: FutureWarning: Conversion of the second argument of issubdtype from `float` to `np.floating` is deprecated. In future, it will be treated as `np.float64 == np.dtype(float).type`.\n",
      "  from ._conv import register_converters as _register_converters\n"
     ]
    }
   ],
   "source": [
    "import turicreate as tc\n",
    "import pandas as pd\n",
    "import matplotlib.pyplot as plt\n",
    "import seaborn as sns\n",
    "import numpy as np\n",
    "%matplotlib inline\n",
    "plt.style.use('ggplot')"
   ]
  },
  {
   "cell_type": "markdown",
   "metadata": {},
   "source": [
    "Sometimes is normal to find databases or datasets in web repositories, in general, the most common way to access is via API, in many other cases, the data can be accessed through the link URL."
   ]
  },
  {
   "cell_type": "markdown",
   "metadata": {},
   "source": [
    "We utilize the Dutch portal for official distribution of data sources, part of the\n",
    "[Ministry of the Interior and Kingdom Relations](https://data.overheid.nl/data/dataset) web page, where we can find tons of datasets in different formats, for many distinct applications.\n",
    "\n",
    "It is important to automate the collection of the data. A good method is creating a function to make the [web service](https://en.wikipedia.org/wiki/Web_service) request, as shown below.\n",
    "\n",
    "For convenience, we are going to focus on crime data in this example."
   ]
  },
  {
   "cell_type": "markdown",
   "metadata": {},
   "source": [
    "### Deaths; murder, crime scene in The Netherlands\n",
    "\n",
    "This table contains the number of persons died as a result of murder or manslaughter, where the crime scene is located in the Netherlands. The victims can be residents or non-residents. The data can be split by location of the crime, method, age and sex. The date of death is the criterion, the date of the act can be in the previous year. The ICD10 codes that belong to murder and manslaughter are X85-Y09.  \n",
    "\n",
    "[Open Data Source](https://data.overheid.nl/data/dataset/deaths-murder-and-manslaughter-crime-scene-in-the-netherlands)  \n",
    "[License](https://data.overheid.nl/licenties-voor-hergebruik) CC-BY 4.0"
   ]
  },
  {
   "cell_type": "code",
   "execution_count": 2,
   "metadata": {},
   "outputs": [],
   "source": [
    "df_crime_pop = pd.read_csv('../datasets/crime_population_netherlands.csv')"
   ]
  },
  {
   "cell_type": "markdown",
   "metadata": {},
   "source": [
    "The municipalities names, region and population are missing, we might go for an additional source"
   ]
  },
  {
   "cell_type": "code",
   "execution_count": 3,
   "metadata": {},
   "outputs": [],
   "source": [
    "# Sometime you just need a little bit of imagination, List of municipalities\n",
    "#df_population = pd.read_csv('https://s3.eu-west-3.amazonaws.com/pedrohserrano-datasets/population-netherlands.tsv', sep='\\t')"
   ]
  },
  {
   "cell_type": "markdown",
   "metadata": {},
   "source": [
    "### Explore Distribution"
   ]
  },
  {
   "cell_type": "markdown",
   "metadata": {},
   "source": [
    "How is related the crime and the types of crime with the population?"
   ]
  },
  {
   "cell_type": "markdown",
   "metadata": {},
   "source": [
    "***Try .head() .describe()***"
   ]
  },
  {
   "cell_type": "code",
   "execution_count": 4,
   "metadata": {},
   "outputs": [],
   "source": [
    "#plt.figure(figsize=[16, 8])\n",
    "#sns.kdeplot(df_population['Population'], shade=True, color=\"r\", label='Population')\n",
    "#plt.title('Distribution of Population The Netherlands'); plt.legend()"
   ]
  },
  {
   "cell_type": "markdown",
   "metadata": {},
   "source": [
    "### Datasets Merge"
   ]
  },
  {
   "cell_type": "code",
   "execution_count": 5,
   "metadata": {},
   "outputs": [],
   "source": [
    "# Merge the crimes table and population table\n",
    "#df_crime_pop = pd.merge(df_crimes, df_population, on='CBScode', how='left')\n",
    "#df_crime_pop = df_crime_pop.replace([np.inf, -np.inf], np.nan)\n",
    "#df_crime_pop.fillna(0, inplace=True)"
   ]
  },
  {
   "cell_type": "code",
   "execution_count": 6,
   "metadata": {},
   "outputs": [
    {
     "data": {
      "text/html": [
       "<div>\n",
       "<style scoped>\n",
       "    .dataframe tbody tr th:only-of-type {\n",
       "        vertical-align: middle;\n",
       "    }\n",
       "\n",
       "    .dataframe tbody tr th {\n",
       "        vertical-align: top;\n",
       "    }\n",
       "\n",
       "    .dataframe thead th {\n",
       "        text-align: right;\n",
       "    }\n",
       "</style>\n",
       "<table border=\"1\" class=\"dataframe\">\n",
       "  <thead>\n",
       "    <tr style=\"text-align: right;\">\n",
       "      <th></th>\n",
       "      <th>CBScode</th>\n",
       "      <th>Municipality</th>\n",
       "      <th>Province</th>\n",
       "      <th>Population</th>\n",
       "      <th>Population_density(p/km)</th>\n",
       "      <th>HIC: Theft / burglary dwelling, complete</th>\n",
       "      <th>HIC: Theft / burglary dwelling, attempts</th>\n",
       "      <th>HIC: Violent Crime</th>\n",
       "      <th>HIC: Street Roof</th>\n",
       "      <th>HIC: Robberies</th>\n",
       "      <th>...</th>\n",
       "      <th>Theft / burglary companies / institutions</th>\n",
       "      <th>Theft / burglary garage / barn / shed</th>\n",
       "      <th>Drug trafficking</th>\n",
       "      <th>Trespassing</th>\n",
       "      <th>mistreatment</th>\n",
       "      <th>Overt violence (person)</th>\n",
       "      <th>Or destruction. cause damage</th>\n",
       "      <th>Arms Trade</th>\n",
       "      <th>pickpocketing</th>\n",
       "      <th>morals Felony</th>\n",
       "    </tr>\n",
       "  </thead>\n",
       "  <tbody>\n",
       "    <tr>\n",
       "      <th>17</th>\n",
       "      <td>GM0003</td>\n",
       "      <td>Appingedam</td>\n",
       "      <td>Groningen</td>\n",
       "      <td>12049</td>\n",
       "      <td>507</td>\n",
       "      <td>24</td>\n",
       "      <td>12</td>\n",
       "      <td>67</td>\n",
       "      <td>0</td>\n",
       "      <td>1</td>\n",
       "      <td>...</td>\n",
       "      <td>56</td>\n",
       "      <td>6</td>\n",
       "      <td>2</td>\n",
       "      <td>0</td>\n",
       "      <td>40</td>\n",
       "      <td>0</td>\n",
       "      <td>54</td>\n",
       "      <td>1</td>\n",
       "      <td>3</td>\n",
       "      <td>3</td>\n",
       "    </tr>\n",
       "    <tr>\n",
       "      <th>25</th>\n",
       "      <td>GM0005</td>\n",
       "      <td>Bedum</td>\n",
       "      <td>Groningen</td>\n",
       "      <td>10475</td>\n",
       "      <td>236</td>\n",
       "      <td>10</td>\n",
       "      <td>2</td>\n",
       "      <td>19</td>\n",
       "      <td>0</td>\n",
       "      <td>0</td>\n",
       "      <td>...</td>\n",
       "      <td>2</td>\n",
       "      <td>3</td>\n",
       "      <td>1</td>\n",
       "      <td>0</td>\n",
       "      <td>14</td>\n",
       "      <td>0</td>\n",
       "      <td>44</td>\n",
       "      <td>0</td>\n",
       "      <td>1</td>\n",
       "      <td>6</td>\n",
       "    </tr>\n",
       "    <tr>\n",
       "      <th>29</th>\n",
       "      <td>GM0007</td>\n",
       "      <td>Bellingwedde</td>\n",
       "      <td>Groningen</td>\n",
       "      <td>8908</td>\n",
       "      <td>86</td>\n",
       "      <td>13</td>\n",
       "      <td>4</td>\n",
       "      <td>30</td>\n",
       "      <td>0</td>\n",
       "      <td>0</td>\n",
       "      <td>...</td>\n",
       "      <td>3</td>\n",
       "      <td>8</td>\n",
       "      <td>2</td>\n",
       "      <td>1</td>\n",
       "      <td>18</td>\n",
       "      <td>0</td>\n",
       "      <td>35</td>\n",
       "      <td>1</td>\n",
       "      <td>0</td>\n",
       "      <td>0</td>\n",
       "    </tr>\n",
       "    <tr>\n",
       "      <th>48</th>\n",
       "      <td>GM0009</td>\n",
       "      <td>Boer, TenTen Boer</td>\n",
       "      <td>Groningen</td>\n",
       "      <td>7465</td>\n",
       "      <td>165</td>\n",
       "      <td>7</td>\n",
       "      <td>0</td>\n",
       "      <td>9</td>\n",
       "      <td>0</td>\n",
       "      <td>0</td>\n",
       "      <td>...</td>\n",
       "      <td>12</td>\n",
       "      <td>2</td>\n",
       "      <td>0</td>\n",
       "      <td>0</td>\n",
       "      <td>5</td>\n",
       "      <td>0</td>\n",
       "      <td>24</td>\n",
       "      <td>0</td>\n",
       "      <td>1</td>\n",
       "      <td>0</td>\n",
       "    </tr>\n",
       "    <tr>\n",
       "      <th>73</th>\n",
       "      <td>GM0010</td>\n",
       "      <td>Delfzijl</td>\n",
       "      <td>Groningen</td>\n",
       "      <td>25686</td>\n",
       "      <td>198</td>\n",
       "      <td>49</td>\n",
       "      <td>27</td>\n",
       "      <td>158</td>\n",
       "      <td>1</td>\n",
       "      <td>1</td>\n",
       "      <td>...</td>\n",
       "      <td>45</td>\n",
       "      <td>15</td>\n",
       "      <td>9</td>\n",
       "      <td>4</td>\n",
       "      <td>100</td>\n",
       "      <td>9</td>\n",
       "      <td>151</td>\n",
       "      <td>7</td>\n",
       "      <td>9</td>\n",
       "      <td>18</td>\n",
       "    </tr>\n",
       "    <tr>\n",
       "      <th>119</th>\n",
       "      <td>GM0014</td>\n",
       "      <td>Groningen</td>\n",
       "      <td>Groningen</td>\n",
       "      <td>198108</td>\n",
       "      <td>2474</td>\n",
       "      <td>696</td>\n",
       "      <td>181</td>\n",
       "      <td>1454</td>\n",
       "      <td>46</td>\n",
       "      <td>16</td>\n",
       "      <td>...</td>\n",
       "      <td>491</td>\n",
       "      <td>253</td>\n",
       "      <td>184</td>\n",
       "      <td>59</td>\n",
       "      <td>906</td>\n",
       "      <td>46</td>\n",
       "      <td>1506</td>\n",
       "      <td>50</td>\n",
       "      <td>574</td>\n",
       "      <td>171</td>\n",
       "    </tr>\n",
       "    <tr>\n",
       "      <th>120</th>\n",
       "      <td>GM0015</td>\n",
       "      <td>Grootegast</td>\n",
       "      <td>Groningen</td>\n",
       "      <td>12193</td>\n",
       "      <td>141</td>\n",
       "      <td>12</td>\n",
       "      <td>2</td>\n",
       "      <td>18</td>\n",
       "      <td>0</td>\n",
       "      <td>0</td>\n",
       "      <td>...</td>\n",
       "      <td>10</td>\n",
       "      <td>5</td>\n",
       "      <td>3</td>\n",
       "      <td>0</td>\n",
       "      <td>12</td>\n",
       "      <td>2</td>\n",
       "      <td>34</td>\n",
       "      <td>0</td>\n",
       "      <td>0</td>\n",
       "      <td>2</td>\n",
       "    </tr>\n",
       "    <tr>\n",
       "      <th>132</th>\n",
       "      <td>GM0017</td>\n",
       "      <td>Haren</td>\n",
       "      <td>Groningen</td>\n",
       "      <td>18790</td>\n",
       "      <td>405</td>\n",
       "      <td>63</td>\n",
       "      <td>20</td>\n",
       "      <td>42</td>\n",
       "      <td>1</td>\n",
       "      <td>0</td>\n",
       "      <td>...</td>\n",
       "      <td>32</td>\n",
       "      <td>11</td>\n",
       "      <td>4</td>\n",
       "      <td>2</td>\n",
       "      <td>18</td>\n",
       "      <td>0</td>\n",
       "      <td>70</td>\n",
       "      <td>1</td>\n",
       "      <td>8</td>\n",
       "      <td>5</td>\n",
       "    </tr>\n",
       "    <tr>\n",
       "      <th>158</th>\n",
       "      <td>GM0018</td>\n",
       "      <td>Hoogezand-Sappemeer</td>\n",
       "      <td>Groningen</td>\n",
       "      <td>34360</td>\n",
       "      <td>521</td>\n",
       "      <td>72</td>\n",
       "      <td>21</td>\n",
       "      <td>163</td>\n",
       "      <td>1</td>\n",
       "      <td>3</td>\n",
       "      <td>...</td>\n",
       "      <td>44</td>\n",
       "      <td>39</td>\n",
       "      <td>22</td>\n",
       "      <td>0</td>\n",
       "      <td>98</td>\n",
       "      <td>2</td>\n",
       "      <td>220</td>\n",
       "      <td>3</td>\n",
       "      <td>9</td>\n",
       "      <td>30</td>\n",
       "    </tr>\n",
       "    <tr>\n",
       "      <th>182</th>\n",
       "      <td>GM0022</td>\n",
       "      <td>Leek</td>\n",
       "      <td>Groningen</td>\n",
       "      <td>19607</td>\n",
       "      <td>307</td>\n",
       "      <td>33</td>\n",
       "      <td>5</td>\n",
       "      <td>41</td>\n",
       "      <td>0</td>\n",
       "      <td>2</td>\n",
       "      <td>...</td>\n",
       "      <td>22</td>\n",
       "      <td>9</td>\n",
       "      <td>10</td>\n",
       "      <td>2</td>\n",
       "      <td>23</td>\n",
       "      <td>3</td>\n",
       "      <td>91</td>\n",
       "      <td>2</td>\n",
       "      <td>5</td>\n",
       "      <td>11</td>\n",
       "    </tr>\n",
       "  </tbody>\n",
       "</table>\n",
       "<p>10 rows × 26 columns</p>\n",
       "</div>"
      ],
      "text/plain": [
       "    CBScode         Municipality   Province  Population  \\\n",
       "17   GM0003           Appingedam  Groningen       12049   \n",
       "25   GM0005                Bedum  Groningen       10475   \n",
       "29   GM0007         Bellingwedde  Groningen        8908   \n",
       "48   GM0009    Boer, TenTen Boer  Groningen        7465   \n",
       "73   GM0010             Delfzijl  Groningen       25686   \n",
       "119  GM0014            Groningen  Groningen      198108   \n",
       "120  GM0015           Grootegast  Groningen       12193   \n",
       "132  GM0017                Haren  Groningen       18790   \n",
       "158  GM0018  Hoogezand-Sappemeer  Groningen       34360   \n",
       "182  GM0022                 Leek  Groningen       19607   \n",
       "\n",
       "     Population_density(p/km)  HIC: Theft / burglary dwelling, complete  \\\n",
       "17                        507                                        24   \n",
       "25                        236                                        10   \n",
       "29                         86                                        13   \n",
       "48                        165                                         7   \n",
       "73                        198                                        49   \n",
       "119                      2474                                       696   \n",
       "120                       141                                        12   \n",
       "132                       405                                        63   \n",
       "158                       521                                        72   \n",
       "182                       307                                        33   \n",
       "\n",
       "     HIC: Theft / burglary dwelling, attempts  HIC: Violent Crime  \\\n",
       "17                                         12                  67   \n",
       "25                                          2                  19   \n",
       "29                                          4                  30   \n",
       "48                                          0                   9   \n",
       "73                                         27                 158   \n",
       "119                                       181                1454   \n",
       "120                                         2                  18   \n",
       "132                                        20                  42   \n",
       "158                                        21                 163   \n",
       "182                                         5                  41   \n",
       "\n",
       "     HIC: Street Roof  HIC: Robberies  ...  \\\n",
       "17                  0               1  ...   \n",
       "25                  0               0  ...   \n",
       "29                  0               0  ...   \n",
       "48                  0               0  ...   \n",
       "73                  1               1  ...   \n",
       "119                46              16  ...   \n",
       "120                 0               0  ...   \n",
       "132                 1               0  ...   \n",
       "158                 1               3  ...   \n",
       "182                 0               2  ...   \n",
       "\n",
       "     Theft / burglary companies / institutions  \\\n",
       "17                                          56   \n",
       "25                                           2   \n",
       "29                                           3   \n",
       "48                                          12   \n",
       "73                                          45   \n",
       "119                                        491   \n",
       "120                                         10   \n",
       "132                                         32   \n",
       "158                                         44   \n",
       "182                                         22   \n",
       "\n",
       "     Theft / burglary garage / barn / shed  Drug trafficking  Trespassing  \\\n",
       "17                                       6                 2            0   \n",
       "25                                       3                 1            0   \n",
       "29                                       8                 2            1   \n",
       "48                                       2                 0            0   \n",
       "73                                      15                 9            4   \n",
       "119                                    253               184           59   \n",
       "120                                      5                 3            0   \n",
       "132                                     11                 4            2   \n",
       "158                                     39                22            0   \n",
       "182                                      9                10            2   \n",
       "\n",
       "     mistreatment  Overt violence (person)  Or destruction. cause damage  \\\n",
       "17             40                        0                            54   \n",
       "25             14                        0                            44   \n",
       "29             18                        0                            35   \n",
       "48              5                        0                            24   \n",
       "73            100                        9                           151   \n",
       "119           906                       46                          1506   \n",
       "120            12                        2                            34   \n",
       "132            18                        0                            70   \n",
       "158            98                        2                           220   \n",
       "182            23                        3                            91   \n",
       "\n",
       "     Arms Trade  pickpocketing  morals Felony  \n",
       "17            1              3              3  \n",
       "25            0              1              6  \n",
       "29            1              0              0  \n",
       "48            0              1              0  \n",
       "73            7              9             18  \n",
       "119          50            574            171  \n",
       "120           0              0              2  \n",
       "132           1              8              5  \n",
       "158           3              9             30  \n",
       "182           2              5             11  \n",
       "\n",
       "[10 rows x 26 columns]"
      ]
     },
     "execution_count": 6,
     "metadata": {},
     "output_type": "execute_result"
    }
   ],
   "source": [
    "df_crime_pop.sort_values('CBScode').head(10)"
   ]
  },
  {
   "cell_type": "code",
   "execution_count": 7,
   "metadata": {},
   "outputs": [],
   "source": [
    "#df_crime_pop.to_csv('', index=True)"
   ]
  },
  {
   "cell_type": "code",
   "execution_count": null,
   "metadata": {},
   "outputs": [],
   "source": []
  },
  {
   "cell_type": "code",
   "execution_count": 8,
   "metadata": {},
   "outputs": [
    {
     "data": {
      "text/html": [
       "<div>\n",
       "<style scoped>\n",
       "    .dataframe tbody tr th:only-of-type {\n",
       "        vertical-align: middle;\n",
       "    }\n",
       "\n",
       "    .dataframe tbody tr th {\n",
       "        vertical-align: top;\n",
       "    }\n",
       "\n",
       "    .dataframe thead th {\n",
       "        text-align: right;\n",
       "    }\n",
       "</style>\n",
       "<table border=\"1\" class=\"dataframe\">\n",
       "  <thead>\n",
       "    <tr style=\"text-align: right;\">\n",
       "      <th></th>\n",
       "      <th>Population</th>\n",
       "      <th>Population_density(p/km)</th>\n",
       "      <th>HIC: Theft / burglary dwelling, complete</th>\n",
       "      <th>HIC: Theft / burglary dwelling, attempts</th>\n",
       "      <th>HIC: Violent Crime</th>\n",
       "      <th>HIC: Street Roof</th>\n",
       "      <th>HIC: Robberies</th>\n",
       "      <th>Undermining public order</th>\n",
       "      <th>Threat</th>\n",
       "      <th>Fire / Explosion</th>\n",
       "      <th>...</th>\n",
       "      <th>Theft / burglary companies / institutions</th>\n",
       "      <th>Theft / burglary garage / barn / shed</th>\n",
       "      <th>Drug trafficking</th>\n",
       "      <th>Trespassing</th>\n",
       "      <th>mistreatment</th>\n",
       "      <th>Overt violence (person)</th>\n",
       "      <th>Or destruction. cause damage</th>\n",
       "      <th>Arms Trade</th>\n",
       "      <th>pickpocketing</th>\n",
       "      <th>morals Felony</th>\n",
       "    </tr>\n",
       "  </thead>\n",
       "  <tbody>\n",
       "    <tr>\n",
       "      <th>count</th>\n",
       "      <td>390.000000</td>\n",
       "      <td>390.000000</td>\n",
       "      <td>390.000000</td>\n",
       "      <td>390.000000</td>\n",
       "      <td>390.000000</td>\n",
       "      <td>390.000000</td>\n",
       "      <td>390.000000</td>\n",
       "      <td>390.000000</td>\n",
       "      <td>390.000000</td>\n",
       "      <td>390.000000</td>\n",
       "      <td>...</td>\n",
       "      <td>390.000000</td>\n",
       "      <td>390.000000</td>\n",
       "      <td>390.000000</td>\n",
       "      <td>390.000000</td>\n",
       "      <td>390.000000</td>\n",
       "      <td>390.000000</td>\n",
       "      <td>390.000000</td>\n",
       "      <td>390.000000</td>\n",
       "      <td>390.000000</td>\n",
       "      <td>390.000000</td>\n",
       "    </tr>\n",
       "    <tr>\n",
       "      <th>mean</th>\n",
       "      <td>43159.884615</td>\n",
       "      <td>811.246154</td>\n",
       "      <td>97.979487</td>\n",
       "      <td>44.251282</td>\n",
       "      <td>205.753846</td>\n",
       "      <td>10.679487</td>\n",
       "      <td>2.905128</td>\n",
       "      <td>13.982051</td>\n",
       "      <td>77.861538</td>\n",
       "      <td>12.217949</td>\n",
       "      <td>...</td>\n",
       "      <td>68.605128</td>\n",
       "      <td>47.425641</td>\n",
       "      <td>32.028205</td>\n",
       "      <td>5.912821</td>\n",
       "      <td>118.461538</td>\n",
       "      <td>9.430769</td>\n",
       "      <td>242.928205</td>\n",
       "      <td>12.528205</td>\n",
       "      <td>65.148718</td>\n",
       "      <td>18.797436</td>\n",
       "    </tr>\n",
       "    <tr>\n",
       "      <th>std</th>\n",
       "      <td>67418.318090</td>\n",
       "      <td>973.824887</td>\n",
       "      <td>219.387051</td>\n",
       "      <td>103.767480</td>\n",
       "      <td>561.367584</td>\n",
       "      <td>76.075239</td>\n",
       "      <td>11.653689</td>\n",
       "      <td>66.946567</td>\n",
       "      <td>220.825994</td>\n",
       "      <td>23.945980</td>\n",
       "      <td>...</td>\n",
       "      <td>196.133507</td>\n",
       "      <td>90.476564</td>\n",
       "      <td>93.849175</td>\n",
       "      <td>18.895807</td>\n",
       "      <td>315.458995</td>\n",
       "      <td>28.402434</td>\n",
       "      <td>466.102905</td>\n",
       "      <td>43.284056</td>\n",
       "      <td>434.852773</td>\n",
       "      <td>42.000092</td>\n",
       "    </tr>\n",
       "    <tr>\n",
       "      <th>min</th>\n",
       "      <td>938.000000</td>\n",
       "      <td>21.000000</td>\n",
       "      <td>0.000000</td>\n",
       "      <td>0.000000</td>\n",
       "      <td>0.000000</td>\n",
       "      <td>0.000000</td>\n",
       "      <td>0.000000</td>\n",
       "      <td>0.000000</td>\n",
       "      <td>0.000000</td>\n",
       "      <td>0.000000</td>\n",
       "      <td>...</td>\n",
       "      <td>0.000000</td>\n",
       "      <td>0.000000</td>\n",
       "      <td>0.000000</td>\n",
       "      <td>0.000000</td>\n",
       "      <td>0.000000</td>\n",
       "      <td>0.000000</td>\n",
       "      <td>4.000000</td>\n",
       "      <td>0.000000</td>\n",
       "      <td>0.000000</td>\n",
       "      <td>0.000000</td>\n",
       "    </tr>\n",
       "    <tr>\n",
       "      <th>25%</th>\n",
       "      <td>17742.000000</td>\n",
       "      <td>225.250000</td>\n",
       "      <td>27.000000</td>\n",
       "      <td>10.000000</td>\n",
       "      <td>41.000000</td>\n",
       "      <td>0.000000</td>\n",
       "      <td>0.000000</td>\n",
       "      <td>1.000000</td>\n",
       "      <td>16.000000</td>\n",
       "      <td>2.000000</td>\n",
       "      <td>...</td>\n",
       "      <td>17.000000</td>\n",
       "      <td>12.000000</td>\n",
       "      <td>5.000000</td>\n",
       "      <td>0.000000</td>\n",
       "      <td>24.000000</td>\n",
       "      <td>1.000000</td>\n",
       "      <td>64.000000</td>\n",
       "      <td>2.000000</td>\n",
       "      <td>3.000000</td>\n",
       "      <td>4.000000</td>\n",
       "    </tr>\n",
       "    <tr>\n",
       "      <th>50%</th>\n",
       "      <td>26046.500000</td>\n",
       "      <td>415.000000</td>\n",
       "      <td>45.500000</td>\n",
       "      <td>18.000000</td>\n",
       "      <td>78.000000</td>\n",
       "      <td>1.000000</td>\n",
       "      <td>1.000000</td>\n",
       "      <td>3.000000</td>\n",
       "      <td>31.000000</td>\n",
       "      <td>5.000000</td>\n",
       "      <td>...</td>\n",
       "      <td>29.000000</td>\n",
       "      <td>25.000000</td>\n",
       "      <td>12.000000</td>\n",
       "      <td>1.000000</td>\n",
       "      <td>44.500000</td>\n",
       "      <td>3.000000</td>\n",
       "      <td>115.500000</td>\n",
       "      <td>4.000000</td>\n",
       "      <td>8.000000</td>\n",
       "      <td>9.000000</td>\n",
       "    </tr>\n",
       "    <tr>\n",
       "      <th>75%</th>\n",
       "      <td>44371.500000</td>\n",
       "      <td>998.000000</td>\n",
       "      <td>84.750000</td>\n",
       "      <td>37.000000</td>\n",
       "      <td>156.000000</td>\n",
       "      <td>4.000000</td>\n",
       "      <td>2.000000</td>\n",
       "      <td>7.000000</td>\n",
       "      <td>60.000000</td>\n",
       "      <td>12.000000</td>\n",
       "      <td>...</td>\n",
       "      <td>55.750000</td>\n",
       "      <td>44.750000</td>\n",
       "      <td>24.750000</td>\n",
       "      <td>4.000000</td>\n",
       "      <td>90.750000</td>\n",
       "      <td>7.000000</td>\n",
       "      <td>227.000000</td>\n",
       "      <td>9.000000</td>\n",
       "      <td>21.000000</td>\n",
       "      <td>17.000000</td>\n",
       "    </tr>\n",
       "    <tr>\n",
       "      <th>max</th>\n",
       "      <td>853312.000000</td>\n",
       "      <td>6131.000000</td>\n",
       "      <td>2962.000000</td>\n",
       "      <td>1351.000000</td>\n",
       "      <td>7645.000000</td>\n",
       "      <td>1331.000000</td>\n",
       "      <td>176.000000</td>\n",
       "      <td>1115.000000</td>\n",
       "      <td>3017.000000</td>\n",
       "      <td>243.000000</td>\n",
       "      <td>...</td>\n",
       "      <td>3264.000000</td>\n",
       "      <td>997.000000</td>\n",
       "      <td>1293.000000</td>\n",
       "      <td>265.000000</td>\n",
       "      <td>4356.000000</td>\n",
       "      <td>403.000000</td>\n",
       "      <td>4956.000000</td>\n",
       "      <td>556.000000</td>\n",
       "      <td>8009.000000</td>\n",
       "      <td>530.000000</td>\n",
       "    </tr>\n",
       "  </tbody>\n",
       "</table>\n",
       "<p>8 rows × 23 columns</p>\n",
       "</div>"
      ],
      "text/plain": [
       "          Population  Population_density(p/km)  \\\n",
       "count     390.000000                390.000000   \n",
       "mean    43159.884615                811.246154   \n",
       "std     67418.318090                973.824887   \n",
       "min       938.000000                 21.000000   \n",
       "25%     17742.000000                225.250000   \n",
       "50%     26046.500000                415.000000   \n",
       "75%     44371.500000                998.000000   \n",
       "max    853312.000000               6131.000000   \n",
       "\n",
       "       HIC: Theft / burglary dwelling, complete  \\\n",
       "count                                390.000000   \n",
       "mean                                  97.979487   \n",
       "std                                  219.387051   \n",
       "min                                    0.000000   \n",
       "25%                                   27.000000   \n",
       "50%                                   45.500000   \n",
       "75%                                   84.750000   \n",
       "max                                 2962.000000   \n",
       "\n",
       "       HIC: Theft / burglary dwelling, attempts  HIC: Violent Crime  \\\n",
       "count                                390.000000          390.000000   \n",
       "mean                                  44.251282          205.753846   \n",
       "std                                  103.767480          561.367584   \n",
       "min                                    0.000000            0.000000   \n",
       "25%                                   10.000000           41.000000   \n",
       "50%                                   18.000000           78.000000   \n",
       "75%                                   37.000000          156.000000   \n",
       "max                                 1351.000000         7645.000000   \n",
       "\n",
       "       HIC: Street Roof  HIC: Robberies  Undermining public order  \\\n",
       "count        390.000000      390.000000                390.000000   \n",
       "mean          10.679487        2.905128                 13.982051   \n",
       "std           76.075239       11.653689                 66.946567   \n",
       "min            0.000000        0.000000                  0.000000   \n",
       "25%            0.000000        0.000000                  1.000000   \n",
       "50%            1.000000        1.000000                  3.000000   \n",
       "75%            4.000000        2.000000                  7.000000   \n",
       "max         1331.000000      176.000000               1115.000000   \n",
       "\n",
       "            Threat  Fire / Explosion  ...  \\\n",
       "count   390.000000        390.000000  ...   \n",
       "mean     77.861538         12.217949  ...   \n",
       "std     220.825994         23.945980  ...   \n",
       "min       0.000000          0.000000  ...   \n",
       "25%      16.000000          2.000000  ...   \n",
       "50%      31.000000          5.000000  ...   \n",
       "75%      60.000000         12.000000  ...   \n",
       "max    3017.000000        243.000000  ...   \n",
       "\n",
       "       Theft / burglary companies / institutions  \\\n",
       "count                                 390.000000   \n",
       "mean                                   68.605128   \n",
       "std                                   196.133507   \n",
       "min                                     0.000000   \n",
       "25%                                    17.000000   \n",
       "50%                                    29.000000   \n",
       "75%                                    55.750000   \n",
       "max                                  3264.000000   \n",
       "\n",
       "       Theft / burglary garage / barn / shed  Drug trafficking  Trespassing  \\\n",
       "count                             390.000000        390.000000   390.000000   \n",
       "mean                               47.425641         32.028205     5.912821   \n",
       "std                                90.476564         93.849175    18.895807   \n",
       "min                                 0.000000          0.000000     0.000000   \n",
       "25%                                12.000000          5.000000     0.000000   \n",
       "50%                                25.000000         12.000000     1.000000   \n",
       "75%                                44.750000         24.750000     4.000000   \n",
       "max                               997.000000       1293.000000   265.000000   \n",
       "\n",
       "       mistreatment  Overt violence (person)  Or destruction. cause damage  \\\n",
       "count    390.000000               390.000000                    390.000000   \n",
       "mean     118.461538                 9.430769                    242.928205   \n",
       "std      315.458995                28.402434                    466.102905   \n",
       "min        0.000000                 0.000000                      4.000000   \n",
       "25%       24.000000                 1.000000                     64.000000   \n",
       "50%       44.500000                 3.000000                    115.500000   \n",
       "75%       90.750000                 7.000000                    227.000000   \n",
       "max     4356.000000               403.000000                   4956.000000   \n",
       "\n",
       "       Arms Trade  pickpocketing  morals Felony  \n",
       "count  390.000000     390.000000     390.000000  \n",
       "mean    12.528205      65.148718      18.797436  \n",
       "std     43.284056     434.852773      42.000092  \n",
       "min      0.000000       0.000000       0.000000  \n",
       "25%      2.000000       3.000000       4.000000  \n",
       "50%      4.000000       8.000000       9.000000  \n",
       "75%      9.000000      21.000000      17.000000  \n",
       "max    556.000000    8009.000000     530.000000  \n",
       "\n",
       "[8 rows x 23 columns]"
      ]
     },
     "execution_count": 8,
     "metadata": {},
     "output_type": "execute_result"
    }
   ],
   "source": [
    "df_crime_pop.describe()"
   ]
  },
  {
   "cell_type": "markdown",
   "metadata": {},
   "source": [
    "Next, let's create a **scatterplot matrix**. Scatterplot matrices plot the distribution of each column along the diagonal, and then plot a scatterplot matrix for the combination of each variable. They make for an efficient tool to look for errors in our data.\n",
    "\n",
    "We can even have the plotting package color each entry by its class to look for trends within the classes."
   ]
  },
  {
   "cell_type": "code",
   "execution_count": 9,
   "metadata": {},
   "outputs": [
    {
     "data": {
      "text/plain": [
       "<matplotlib.legend.Legend at 0x1a13f95ba8>"
      ]
     },
     "execution_count": 9,
     "metadata": {},
     "output_type": "execute_result"
    },
    {
     "data": {
      "image/png": "[encoded data removed]",
      "text/plain": [
       "<Figure size 826.75x720 with 20 Axes>"
      ]
     },
     "metadata": {},
     "output_type": "display_data"
    }
   ],
   "source": [
    "df_plot = df_crime_pop[['HIC: Violent Crime','HIC: Street Roof', 'HIC: Robberies', 'Population_density(p/km)', 'Province']]\n",
    "sns.pairplot(df_plot, hue=\"Province\")\n",
    "plt.title('Correlation of High Impact Crime')\n",
    "plt.legend()"
   ]
  },
  {
   "cell_type": "markdown",
   "metadata": {},
   "source": [
    "#### Correlation Violent crimes vs Population Density"
   ]
  },
  {
   "cell_type": "code",
   "execution_count": 10,
   "metadata": {},
   "outputs": [],
   "source": [
    "df_plot = df_crime_pop[['HIC: Violent Crime','Arms Trade']]"
   ]
  },
  {
   "cell_type": "code",
   "execution_count": 11,
   "metadata": {},
   "outputs": [],
   "source": [
    "df_plot = df_plot[(df_plot['Arms Trade'] < 10 ) & (df_plot['HIC: Violent Crime'] < 200) ]"
   ]
  },
  {
   "cell_type": "code",
   "execution_count": 12,
   "metadata": {},
   "outputs": [
    {
     "data": {
      "text/plain": [
       "Text(0.5,1,'Relation')"
      ]
     },
     "execution_count": 12,
     "metadata": {},
     "output_type": "execute_result"
    },
    {
     "data": {
      "image/png": "[encoded data removed]",
      "text/plain": [
       "<Figure size 1008x504 with 1 Axes>"
      ]
     },
     "metadata": {},
     "output_type": "display_data"
    }
   ],
   "source": [
    "plt.figure(figsize=[14, 7])\n",
    "sns.kdeplot(df_plot['Arms Trade'], df_plot['HIC: Violent Crime'], cmap=\"Reds\", shade=True, shade_lowest=False)\n",
    "plt.title('Relation')"
   ]
  },
  {
   "cell_type": "markdown",
   "metadata": {},
   "source": [
    "---\n",
    "## K-means Method"
   ]
  },
  {
   "cell_type": "markdown",
   "metadata": {},
   "source": [
    "The most basic usage of K-means clustering requires only a choice for the number of clusters, . We rarely know the correct number of clusters a priori, but the following simple heuristic sometimes works well:  \n",
    "\n",
    "where is the number of rows in your dataset. By default, the maximum number of iterations is 10, and all features in the input dataset are used"
   ]
  },
  {
   "cell_type": "code",
   "execution_count": 13,
   "metadata": {},
   "outputs": [],
   "source": [
    "sf = tc.SFrame(data=df_crime_pop.loc[:, df_crime_pop.columns != 'Population']._get_numeric_data())"
   ]
  },
  {
   "cell_type": "markdown",
   "metadata": {},
   "source": [
    "***Write the formula for k***"
   ]
  },
  {
   "cell_type": "code",
   "execution_count": 14,
   "metadata": {},
   "outputs": [],
   "source": [
    "K= 3"
   ]
  },
  {
   "cell_type": "code",
   "execution_count": 15,
   "metadata": {},
   "outputs": [
    {
     "name": "stdout",
     "output_type": "stream",
     "text": [
      "Number of Clusters K: 3\n"
     ]
    }
   ],
   "source": [
    "print('Number of Clusters K: {}'.format(K))"
   ]
  },
  {
   "cell_type": "code",
   "execution_count": 16,
   "metadata": {},
   "outputs": [
    {
     "data": {
      "text/html": [
       "<pre>Batch size is larger than the input dataset. Switching to an exact Kmeans method.</pre>"
      ],
      "text/plain": [
       "Batch size is larger than the input dataset. Switching to an exact Kmeans method."
      ]
     },
     "metadata": {},
     "output_type": "display_data"
    },
    {
     "data": {
      "text/html": [
       "<pre>Choosing initial cluster centers with Kmeans++.</pre>"
      ],
      "text/plain": [
       "Choosing initial cluster centers with Kmeans++."
      ]
     },
     "metadata": {},
     "output_type": "display_data"
    },
    {
     "data": {
      "text/html": [
       "<pre>+---------------+-----------+</pre>"
      ],
      "text/plain": [
       "+---------------+-----------+"
      ]
     },
     "metadata": {},
     "output_type": "display_data"
    },
    {
     "data": {
      "text/html": [
       "<pre>| Center number | Row index |</pre>"
      ],
      "text/plain": [
       "| Center number | Row index |"
      ]
     },
     "metadata": {},
     "output_type": "display_data"
    },
    {
     "data": {
      "text/html": [
       "<pre>+---------------+-----------+</pre>"
      ],
      "text/plain": [
       "+---------------+-----------+"
      ]
     },
     "metadata": {},
     "output_type": "display_data"
    },
    {
     "data": {
      "text/html": [
       "<pre>| 0             | 199       |</pre>"
      ],
      "text/plain": [
       "| 0             | 199       |"
      ]
     },
     "metadata": {},
     "output_type": "display_data"
    },
    {
     "data": {
      "text/html": [
       "<pre>| 1             | 136       |</pre>"
      ],
      "text/plain": [
       "| 1             | 136       |"
      ]
     },
     "metadata": {},
     "output_type": "display_data"
    },
    {
     "data": {
      "text/html": [
       "<pre>| 2             | 127       |</pre>"
      ],
      "text/plain": [
       "| 2             | 127       |"
      ]
     },
     "metadata": {},
     "output_type": "display_data"
    },
    {
     "data": {
      "text/html": [
       "<pre>+---------------+-----------+</pre>"
      ],
      "text/plain": [
       "+---------------+-----------+"
      ]
     },
     "metadata": {},
     "output_type": "display_data"
    },
    {
     "data": {
      "text/html": [
       "<pre>Starting kmeans model training.</pre>"
      ],
      "text/plain": [
       "Starting kmeans model training."
      ]
     },
     "metadata": {},
     "output_type": "display_data"
    },
    {
     "data": {
      "text/html": [
       "<pre>Assigning points to initial cluster centers.</pre>"
      ],
      "text/plain": [
       "Assigning points to initial cluster centers."
      ]
     },
     "metadata": {},
     "output_type": "display_data"
    },
    {
     "data": {
      "text/html": [
       "<pre>+-----------+-------------------------------+</pre>"
      ],
      "text/plain": [
       "+-----------+-------------------------------+"
      ]
     },
     "metadata": {},
     "output_type": "display_data"
    },
    {
     "data": {
      "text/html": [
       "<pre>| Iteration | Number of changed assignments |</pre>"
      ],
      "text/plain": [
       "| Iteration | Number of changed assignments |"
      ]
     },
     "metadata": {},
     "output_type": "display_data"
    },
    {
     "data": {
      "text/html": [
       "<pre>+-----------+-------------------------------+</pre>"
      ],
      "text/plain": [
       "+-----------+-------------------------------+"
      ]
     },
     "metadata": {},
     "output_type": "display_data"
    },
    {
     "data": {
      "text/html": [
       "<pre>| 1         | 10                            |</pre>"
      ],
      "text/plain": [
       "| 1         | 10                            |"
      ]
     },
     "metadata": {},
     "output_type": "display_data"
    },
    {
     "data": {
      "text/html": [
       "<pre>| 2         | 4                             |</pre>"
      ],
      "text/plain": [
       "| 2         | 4                             |"
      ]
     },
     "metadata": {},
     "output_type": "display_data"
    },
    {
     "data": {
      "text/html": [
       "<pre>| 3         | 1                             |</pre>"
      ],
      "text/plain": [
       "| 3         | 1                             |"
      ]
     },
     "metadata": {},
     "output_type": "display_data"
    },
    {
     "data": {
      "text/html": [
       "<pre>| 4         | 1                             |</pre>"
      ],
      "text/plain": [
       "| 4         | 1                             |"
      ]
     },
     "metadata": {},
     "output_type": "display_data"
    }
   ],
   "source": [
    "kmeans_model = tc.kmeans.create(sf, num_clusters=K)"
   ]
  },
  {
   "cell_type": "code",
   "execution_count": 17,
   "metadata": {},
   "outputs": [
    {
     "data": {
      "text/html": [
       "<pre>| 5         | 0                             |</pre>"
      ],
      "text/plain": [
       "| 5         | 0                             |"
      ]
     },
     "metadata": {},
     "output_type": "display_data"
    },
    {
     "data": {
      "text/html": [
       "<pre>+-----------+-------------------------------+</pre>"
      ],
      "text/plain": [
       "+-----------+-------------------------------+"
      ]
     },
     "metadata": {},
     "output_type": "display_data"
    },
    {
     "data": {
      "text/plain": [
       "<bound method Model.summary of Class                            : KmeansModel\n",
       "\n",
       "Schema\n",
       "------\n",
       "Number of clusters               : 3\n",
       "Number of examples               : 390\n",
       "Number of feature columns        : 22\n",
       "Number of unpacked features      : 22\n",
       "Row label name                   : row_id\n",
       "\n",
       "Training Summary\n",
       "----------------\n",
       "Training method                  : elkan\n",
       "Number of training iterations    : 5\n",
       "Batch size                       : 390\n",
       "Total training time (seconds)    : 1.0792\n",
       "\n",
       "Accessible fields\n",
       "-----------------\n",
       "cluster_id                      : An SFrame containing the cluster assignments.\n",
       "cluster_info                    : An SFrame containing the cluster centers.>"
      ]
     },
     "execution_count": 17,
     "metadata": {},
     "output_type": "execute_result"
    }
   ],
   "source": [
    "kmeans_model.summary"
   ]
  },
  {
   "cell_type": "markdown",
   "metadata": {},
   "source": [
    "The model summary shows the usual fields about model schema, training time, and training iterations. It also shows that the K-means results are returned in two SFrames contained in the model: `cluster_id` and `cluster_info`. The cluster_info SFrame indicates the final cluster centers, one per row, in terms of the same features used to create the model."
   ]
  },
  {
   "cell_type": "markdown",
   "metadata": {},
   "source": [
    "The last three columns of the cluster_info SFrame indicate metadata about the corresponding cluster: ID number, number of points in the cluster, and the within-cluster sum of squared distances to the center."
   ]
  },
  {
   "cell_type": "code",
   "execution_count": 18,
   "metadata": {},
   "outputs": [
    {
     "name": "stdout",
     "output_type": "stream",
     "text": [
      "+------------+------+----------------------+\n",
      "| cluster_id | size | sum_squared_distance |\n",
      "+------------+------+----------------------+\n",
      "|     0      | 334  |  80065397.48583984   |\n",
      "|     1      |  52  |   123932829.765625   |\n",
      "|     2      |  4   |     127391758.5      |\n",
      "+------------+------+----------------------+\n",
      "[3 rows x 3 columns]\n",
      "\n"
     ]
    }
   ],
   "source": [
    "kmeans_model.cluster_info[['cluster_id', 'size', 'sum_squared_distance']].print_rows(num_rows=14, num_columns=3)"
   ]
  },
  {
   "cell_type": "markdown",
   "metadata": {},
   "source": [
    "The `cluster_id` field of the model shows the cluster assignment for each input data point, along with the Euclidean distance from the point to its assigned cluster's center."
   ]
  },
  {
   "cell_type": "code",
   "execution_count": 19,
   "metadata": {},
   "outputs": [],
   "source": [
    "clusters = kmeans_model.cluster_id"
   ]
  },
  {
   "cell_type": "markdown",
   "metadata": {},
   "source": [
    "***Which are the anomalous points?***"
   ]
  },
  {
   "cell_type": "markdown",
   "metadata": {},
   "source": [
    "***What do they have in common within anomalous clusters?***"
   ]
  },
  {
   "cell_type": "markdown",
   "metadata": {},
   "source": [
    "# Anomaly Detection - DBSCAN"
   ]
  },
  {
   "cell_type": "code",
   "execution_count": 20,
   "metadata": {},
   "outputs": [],
   "source": [
    "import turicreate as tc"
   ]
  },
  {
   "cell_type": "code",
   "execution_count": 21,
   "metadata": {},
   "outputs": [],
   "source": [
    "import matplotlib.pyplot as plt\n",
    "plt.style.use('ggplot')"
   ]
  },
  {
   "cell_type": "code",
   "execution_count": 23,
   "metadata": {},
   "outputs": [],
   "source": [
    "#sf = tc.SFrame('https://s3.eu-west-3.amazonaws.com/pedrohserrano-datasets/sensor_data.csv')\n",
    "#sf = sf[['0','1']]"
   ]
  },
  {
   "cell_type": "markdown",
   "metadata": {},
   "source": [
    "***Try methods and different parameters***"
   ]
  },
  {
   "cell_type": "code",
   "execution_count": null,
   "metadata": {},
   "outputs": [],
   "source": []
  },
  {
   "cell_type": "code",
   "execution_count": null,
   "metadata": {},
   "outputs": [],
   "source": []
  },
  {
   "cell_type": "markdown",
   "metadata": {},
   "source": [
    "---\n",
    "Like the K-means model, the assignments of points to clusters is in the models' cluster-id field. The second column shows the cluster assignment for the row index of the input data indicated by the first column. The third column shows whether DBSCAN considers the point core, boundary, or noise. Noise points are not assigned to a cluster, which is encoded as a \"missing\" value in the 'cluster_id' column."
   ]
  },
  {
   "cell_type": "markdown",
   "metadata": {},
   "source": [
    "Because we generated 2D data, we can plot it and color the points according to the cluster assignments generated by our DBSCAN model. The first step is to join the cluster results back to the original data. Please note: DBSCAN scrambles the row order."
   ]
  },
  {
   "cell_type": "code",
   "execution_count": null,
   "metadata": {},
   "outputs": [],
   "source": [
    "sf = sf.add_row_number('row_id')\n",
    "sf = sf.join(dbscan_model.cluster_id, on='row_id', how='left')\n",
    "sf = sf.rename({'cluster_id': 'dbscan_id'})"
   ]
  },
  {
   "cell_type": "code",
   "execution_count": null,
   "metadata": {},
   "outputs": [],
   "source": [
    "core_mask = sf['type'] == 'core'\n",
    "boundary_mask = sf['type'] == 'boundary'\n",
    "anomalies_mask = sf['type'] == 'noise'"
   ]
  },
  {
   "cell_type": "code",
   "execution_count": null,
   "metadata": {},
   "outputs": [],
   "source": [
    "plt.figure(figsize=[14, 10])\n",
    "plt.scatter(sf['0'][core_mask], sf['1'][core_mask], s=80, alpha=0.9, c=sf['dbscan_id'][core_mask], cmap=plt.cm.Set1)\n",
    "plt.scatter(sf['0'][boundary_mask], sf['1'][boundary_mask], s=40, alpha=0.7, c=sf['dbscan_id'][boundary_mask], cmap=plt.cm.Set1)\n",
    "plt.scatter(sf['0'][anomalies_mask], sf['1'][anomalies_mask], s=40, alpha=0.7, c='black')"
   ]
  },
  {
   "cell_type": "markdown",
   "metadata": {},
   "source": [
    "***Compare results with k-means***"
   ]
  },
  {
   "cell_type": "code",
   "execution_count": null,
   "metadata": {},
   "outputs": [],
   "source": []
  }
 ],
 "metadata": {
  "kernelspec": {
   "display_name": "Python 3",
   "language": "python",
   "name": "python3"
  },
  "language_info": {
   "codemirror_mode": {
    "name": "ipython",
    "version": 3
   },
   "file_extension": ".py",
   "mimetype": "text/x-python",
   "name": "python",
   "nbconvert_exporter": "python",
   "pygments_lexer": "ipython3",
   "version": "3.6.8"
  }
 },
 "nbformat": 4,
 "nbformat_minor": 2
}
