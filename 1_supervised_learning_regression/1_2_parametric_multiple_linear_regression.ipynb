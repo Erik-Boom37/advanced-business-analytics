{
 "cells": [
  {
   "cell_type": "markdown",
   "metadata": {
    "slideshow": {
     "slide_type": "slide"
    }
   },
   "source": [
    "## Multiple Linear Regression"
   ]
  },
  {
   "cell_type": "markdown",
   "metadata": {
    "slideshow": {
     "slide_type": "slide"
    }
   },
   "source": [
    "Simple linear regression can easily be extended to include multiple features. This is called multiple linear regression:\n",
    "A straight-plane fit is a model of the form\n",
    "\n",
    "$$\n",
    "\\large y = \\large \\beta + \\large \\alpha_1 x_1 + \\large \\alpha_2 x_2 +...+ \\large \\alpha_n x_n\n",
    "$$\n",
    "\n",
    "where:\n",
    "<br>$\\alpha_i$ is commonly known as the *slope* in multiple dimensions that makes up a plane\n",
    "<br>$\\beta$ is commonly known as the *intercept*. \n",
    "\n",
    "Extending each sample with an intercept xi := [1, xi] ∈ RP+1 allows us to use a more general notation based on linear algebra and write it as a simple dot product:\n",
    "y ( x i , β ) = x iT β ,"
   ]
  },
  {
   "cell_type": "markdown",
   "metadata": {
    "slideshow": {
     "slide_type": "subslide"
    }
   },
   "source": [
    "<img src=\"../img/reg6.png\" width=\"900\">"
   ]
  },
  {
   "cell_type": "code",
   "execution_count": 1,
   "metadata": {
    "slideshow": {
     "slide_type": "subslide"
    }
   },
   "outputs": [],
   "source": [
    "import numpy as np\n",
    "import matplotlib.pyplot as plt\n",
    "import seaborn as sns; sns.set()\n",
    "import pandas as pd\n",
    "import warnings\n",
    "warnings.filterwarnings('ignore')\n",
    "%matplotlib inline"
   ]
  },
  {
   "cell_type": "markdown",
   "metadata": {
    "slideshow": {
     "slide_type": "slide"
    }
   },
   "source": [
    "### Code Dictionary\n",
    "code | description\n",
    "-----|------------\n",
    "`read_csv(file)` | Using the Pandas library, create a dataframe for the dataset\n",
    "`.loc()` | Access a group of rows and columns by label(s) or a boolean array.\n",
    "`mean_squared_error` | Scikitlearn fuction to calculate the mean squared error\n",
    "`r2_score` | Scikitlearn fuction to calculate the r2 score\n",
    "`statsmodels` | Library for in depth statistical analysis.\n",
    "`math` | Library for in mathematical operations.\n",
    "`.OLS(y, X)` | Ordinary least squares aka linear regression.\n",
    "`.RFECV(model, folds)` | Automatic selection of the best number of features."
   ]
  },
  {
   "cell_type": "markdown",
   "metadata": {
    "slideshow": {
     "slide_type": "slide"
    }
   },
   "source": [
    "Let's take an already known dataset"
   ]
  },
  {
   "cell_type": "markdown",
   "metadata": {
    "slideshow": {
     "slide_type": "fragment"
    }
   },
   "source": [
    "The data itself is extracted from [Inside Airbnb](http://insideairbnb.com) where is possible to make a very nice visual analysis following the hypothesis: Airbnb claims to be part of the \"sharing economy\" and disrupting the hotel industry. However, data shows that the majority of Airbnb listings in most cities are entire homes, many of which are rented all year round - disrupting housing and communities."
   ]
  },
  {
   "cell_type": "code",
   "execution_count": 2,
   "metadata": {
    "slideshow": {
     "slide_type": "fragment"
    }
   },
   "outputs": [],
   "source": [
    "dataset = pd.read_csv('../datasets/airbnb_amsterdam.csv')"
   ]
  },
  {
   "cell_type": "code",
   "execution_count": 3,
   "metadata": {
    "slideshow": {
     "slide_type": "subslide"
    }
   },
   "outputs": [
    {
     "data": {
      "text/html": [
       "<div>\n",
       "<style scoped>\n",
       "    .dataframe tbody tr th:only-of-type {\n",
       "        vertical-align: middle;\n",
       "    }\n",
       "\n",
       "    .dataframe tbody tr th {\n",
       "        vertical-align: top;\n",
       "    }\n",
       "\n",
       "    .dataframe thead th {\n",
       "        text-align: right;\n",
       "    }\n",
       "</style>\n",
       "<table border=\"1\" class=\"dataframe\">\n",
       "  <thead>\n",
       "    <tr style=\"text-align: right;\">\n",
       "      <th></th>\n",
       "      <th>Unnamed: 0</th>\n",
       "      <th>room_id</th>\n",
       "      <th>survey_id</th>\n",
       "      <th>host_id</th>\n",
       "      <th>room_type</th>\n",
       "      <th>city</th>\n",
       "      <th>neighborhood</th>\n",
       "      <th>reviews</th>\n",
       "      <th>overall_satisfaction</th>\n",
       "      <th>accommodates</th>\n",
       "      <th>bedrooms</th>\n",
       "      <th>price</th>\n",
       "      <th>name</th>\n",
       "      <th>last_modified</th>\n",
       "      <th>latitude</th>\n",
       "      <th>longitude</th>\n",
       "    </tr>\n",
       "  </thead>\n",
       "  <tbody>\n",
       "    <tr>\n",
       "      <th>0</th>\n",
       "      <td>0</td>\n",
       "      <td>10176931</td>\n",
       "      <td>1476</td>\n",
       "      <td>49180562</td>\n",
       "      <td>Shared room</td>\n",
       "      <td>Amsterdam</td>\n",
       "      <td>De Pijp / Rivierenbuurt</td>\n",
       "      <td>7</td>\n",
       "      <td>4.5</td>\n",
       "      <td>2</td>\n",
       "      <td>1</td>\n",
       "      <td>156</td>\n",
       "      <td>Red Light/ Canal view apartment (Shared)</td>\n",
       "      <td>2017-07-23 13:06:27.391699</td>\n",
       "      <td>52.356209</td>\n",
       "      <td>4.887491</td>\n",
       "    </tr>\n",
       "    <tr>\n",
       "      <th>1</th>\n",
       "      <td>1</td>\n",
       "      <td>8935871</td>\n",
       "      <td>1476</td>\n",
       "      <td>46718394</td>\n",
       "      <td>Shared room</td>\n",
       "      <td>Amsterdam</td>\n",
       "      <td>Centrum West</td>\n",
       "      <td>45</td>\n",
       "      <td>4.5</td>\n",
       "      <td>4</td>\n",
       "      <td>1</td>\n",
       "      <td>126</td>\n",
       "      <td>Sunny and Cozy Living room in quite neighbours</td>\n",
       "      <td>2017-07-23 13:06:23.607187</td>\n",
       "      <td>52.378518</td>\n",
       "      <td>4.896120</td>\n",
       "    </tr>\n",
       "    <tr>\n",
       "      <th>2</th>\n",
       "      <td>2</td>\n",
       "      <td>14011697</td>\n",
       "      <td>1476</td>\n",
       "      <td>10346595</td>\n",
       "      <td>Shared room</td>\n",
       "      <td>Amsterdam</td>\n",
       "      <td>Watergraafsmeer</td>\n",
       "      <td>1</td>\n",
       "      <td>0.0</td>\n",
       "      <td>3</td>\n",
       "      <td>1</td>\n",
       "      <td>132</td>\n",
       "      <td>Amsterdam</td>\n",
       "      <td>2017-07-23 13:06:23.603546</td>\n",
       "      <td>52.338811</td>\n",
       "      <td>4.943592</td>\n",
       "    </tr>\n",
       "    <tr>\n",
       "      <th>3</th>\n",
       "      <td>3</td>\n",
       "      <td>6137978</td>\n",
       "      <td>1476</td>\n",
       "      <td>8685430</td>\n",
       "      <td>Shared room</td>\n",
       "      <td>Amsterdam</td>\n",
       "      <td>Centrum West</td>\n",
       "      <td>7</td>\n",
       "      <td>5.0</td>\n",
       "      <td>4</td>\n",
       "      <td>1</td>\n",
       "      <td>121</td>\n",
       "      <td>Canal boat RIDE in Amsterdam</td>\n",
       "      <td>2017-07-23 13:06:22.689787</td>\n",
       "      <td>52.376319</td>\n",
       "      <td>4.890028</td>\n",
       "    </tr>\n",
       "    <tr>\n",
       "      <th>4</th>\n",
       "      <td>4</td>\n",
       "      <td>18630616</td>\n",
       "      <td>1476</td>\n",
       "      <td>70191803</td>\n",
       "      <td>Shared room</td>\n",
       "      <td>Amsterdam</td>\n",
       "      <td>De Baarsjes / Oud West</td>\n",
       "      <td>1</td>\n",
       "      <td>0.0</td>\n",
       "      <td>2</td>\n",
       "      <td>1</td>\n",
       "      <td>93</td>\n",
       "      <td>One room for rent in a three room appartment</td>\n",
       "      <td>2017-07-23 13:06:19.681469</td>\n",
       "      <td>52.370384</td>\n",
       "      <td>4.852873</td>\n",
       "    </tr>\n",
       "  </tbody>\n",
       "</table>\n",
       "</div>"
      ],
      "text/plain": [
       "   Unnamed: 0   room_id  survey_id   host_id    room_type       city  \\\n",
       "0           0  10176931       1476  49180562  Shared room  Amsterdam   \n",
       "1           1   8935871       1476  46718394  Shared room  Amsterdam   \n",
       "2           2  14011697       1476  10346595  Shared room  Amsterdam   \n",
       "3           3   6137978       1476   8685430  Shared room  Amsterdam   \n",
       "4           4  18630616       1476  70191803  Shared room  Amsterdam   \n",
       "\n",
       "              neighborhood  reviews  overall_satisfaction  accommodates  \\\n",
       "0  De Pijp / Rivierenbuurt        7                   4.5             2   \n",
       "1             Centrum West       45                   4.5             4   \n",
       "2          Watergraafsmeer        1                   0.0             3   \n",
       "3             Centrum West        7                   5.0             4   \n",
       "4   De Baarsjes / Oud West        1                   0.0             2   \n",
       "\n",
       "   bedrooms  price                                            name  \\\n",
       "0         1    156        Red Light/ Canal view apartment (Shared)   \n",
       "1         1    126  Sunny and Cozy Living room in quite neighbours   \n",
       "2         1    132                                       Amsterdam   \n",
       "3         1    121                    Canal boat RIDE in Amsterdam   \n",
       "4         1     93    One room for rent in a three room appartment   \n",
       "\n",
       "                last_modified   latitude  longitude  \n",
       "0  2017-07-23 13:06:27.391699  52.356209   4.887491  \n",
       "1  2017-07-23 13:06:23.607187  52.378518   4.896120  \n",
       "2  2017-07-23 13:06:23.603546  52.338811   4.943592  \n",
       "3  2017-07-23 13:06:22.689787  52.376319   4.890028  \n",
       "4  2017-07-23 13:06:19.681469  52.370384   4.852873  "
      ]
     },
     "execution_count": 3,
     "metadata": {},
     "output_type": "execute_result"
    }
   ],
   "source": [
    "dataset.head()"
   ]
  },
  {
   "cell_type": "code",
   "execution_count": 4,
   "metadata": {
    "slideshow": {
     "slide_type": "subslide"
    }
   },
   "outputs": [
    {
     "name": "stdout",
     "output_type": "stream",
     "text": [
      "<class 'pandas.core.frame.DataFrame'>\n",
      "RangeIndex: 18694 entries, 0 to 18693\n",
      "Data columns (total 16 columns):\n",
      "Unnamed: 0              18694 non-null int64\n",
      "room_id                 18694 non-null int64\n",
      "survey_id               18694 non-null int64\n",
      "host_id                 18694 non-null int64\n",
      "room_type               18694 non-null object\n",
      "city                    18694 non-null object\n",
      "neighborhood            18694 non-null object\n",
      "reviews                 18694 non-null int64\n",
      "overall_satisfaction    18694 non-null float64\n",
      "accommodates            18694 non-null int64\n",
      "bedrooms                18694 non-null int64\n",
      "price                   18694 non-null int64\n",
      "name                    18642 non-null object\n",
      "last_modified           18694 non-null object\n",
      "latitude                18694 non-null float64\n",
      "longitude               18694 non-null float64\n",
      "dtypes: float64(3), int64(8), object(5)\n",
      "memory usage: 2.3+ MB\n"
     ]
    }
   ],
   "source": [
    "dataset.info()"
   ]
  },
  {
   "cell_type": "markdown",
   "metadata": {
    "slideshow": {
     "slide_type": "subslide"
    }
   },
   "source": [
    "#### What do we want to predict?\n",
    "Seperate out the target variable and features"
   ]
  },
  {
   "cell_type": "code",
   "execution_count": 5,
   "metadata": {
    "slideshow": {
     "slide_type": "fragment"
    }
   },
   "outputs": [],
   "source": [
    "features = ['reviews', 'overall_satisfaction', 'accommodates', 'bedrooms']"
   ]
  },
  {
   "cell_type": "code",
   "execution_count": 6,
   "metadata": {
    "slideshow": {
     "slide_type": "subslide"
    }
   },
   "outputs": [],
   "source": [
    "X = dataset[features]\n",
    "y = dataset.price"
   ]
  },
  {
   "cell_type": "code",
   "execution_count": 7,
   "metadata": {
    "slideshow": {
     "slide_type": "fragment"
    }
   },
   "outputs": [
    {
     "data": {
      "text/plain": [
       "164.8257194821868"
      ]
     },
     "execution_count": 7,
     "metadata": {},
     "output_type": "execute_result"
    }
   ],
   "source": [
    "y.mean()"
   ]
  },
  {
   "cell_type": "markdown",
   "metadata": {
    "slideshow": {
     "slide_type": "subslide"
    }
   },
   "source": [
    "Learning a multiple regression model\n",
    "Recall we can use the following code to learn a multiple regression model predicting 'price' based on the following features: example_features = ['sqft_living', 'bedrooms', 'bathrooms'] on training data with the following code:"
   ]
  },
  {
   "cell_type": "markdown",
   "metadata": {
    "slideshow": {
     "slide_type": "slide"
    }
   },
   "source": [
    "#### What are the Machine Learning steps?"
   ]
  },
  {
   "cell_type": "code",
   "execution_count": 9,
   "metadata": {
    "slideshow": {
     "slide_type": "fragment"
    }
   },
   "outputs": [],
   "source": [
    "from sklearn.model_selection import train_test_split\n",
    "X_train, X_test, y_train, y_test = train_test_split(X, y, test_size=0.2, random_state=0)"
   ]
  },
  {
   "cell_type": "markdown",
   "metadata": {
    "slideshow": {
     "slide_type": "subslide"
    }
   },
   "source": [
    "$$\n",
    "\\large y = \\large \\beta + \\large \\alpha_1 x_1 + \\large \\alpha_2 x_2 +...+ \\large \\alpha_n x_n\n",
    "$$\n"
   ]
  },
  {
   "cell_type": "markdown",
   "metadata": {
    "slideshow": {
     "slide_type": "fragment"
    }
   },
   "source": [
    "Then, fit the model to all the features in the data"
   ]
  },
  {
   "cell_type": "code",
   "execution_count": 11,
   "metadata": {
    "slideshow": {
     "slide_type": "fragment"
    }
   },
   "outputs": [],
   "source": [
    "from sklearn.linear_model import LinearRegression\n",
    "model = LinearRegression()"
   ]
  },
  {
   "cell_type": "code",
   "execution_count": 12,
   "metadata": {
    "scrolled": true,
    "slideshow": {
     "slide_type": "fragment"
    }
   },
   "outputs": [
    {
     "data": {
      "text/plain": [
       "LinearRegression(copy_X=True, fit_intercept=True, n_jobs=1, normalize=False)"
      ]
     },
     "execution_count": 12,
     "metadata": {},
     "output_type": "execute_result"
    }
   ],
   "source": [
    "model.fit(X_train, y_train)"
   ]
  },
  {
   "cell_type": "code",
   "execution_count": 13,
   "metadata": {},
   "outputs": [
    {
     "data": {
      "text/plain": [
       "LinearRegression(copy_X=True, fit_intercept=True, n_jobs=1, normalize=False)"
      ]
     },
     "execution_count": 13,
     "metadata": {},
     "output_type": "execute_result"
    }
   ],
   "source": [
    "model"
   ]
  },
  {
   "cell_type": "markdown",
   "metadata": {
    "slideshow": {
     "slide_type": "slide"
    }
   },
   "source": [
    "Let's create new airbnb values and predict"
   ]
  },
  {
   "cell_type": "code",
   "execution_count": 14,
   "metadata": {
    "slideshow": {
     "slide_type": "fragment"
    }
   },
   "outputs": [],
   "source": [
    "new_appartment = pd.DataFrame({'reviews':[40],\n",
    "                               'overall_satisfaction':[5],\n",
    "                               'accommodates':[2],\n",
    "                               'bedrooms':[2]})"
   ]
  },
  {
   "cell_type": "code",
   "execution_count": 15,
   "metadata": {},
   "outputs": [
    {
     "data": {
      "text/html": [
       "<div>\n",
       "<style scoped>\n",
       "    .dataframe tbody tr th:only-of-type {\n",
       "        vertical-align: middle;\n",
       "    }\n",
       "\n",
       "    .dataframe tbody tr th {\n",
       "        vertical-align: top;\n",
       "    }\n",
       "\n",
       "    .dataframe thead th {\n",
       "        text-align: right;\n",
       "    }\n",
       "</style>\n",
       "<table border=\"1\" class=\"dataframe\">\n",
       "  <thead>\n",
       "    <tr style=\"text-align: right;\">\n",
       "      <th></th>\n",
       "      <th>reviews</th>\n",
       "      <th>overall_satisfaction</th>\n",
       "      <th>accommodates</th>\n",
       "      <th>bedrooms</th>\n",
       "    </tr>\n",
       "  </thead>\n",
       "  <tbody>\n",
       "    <tr>\n",
       "      <th>0</th>\n",
       "      <td>40</td>\n",
       "      <td>5</td>\n",
       "      <td>2</td>\n",
       "      <td>2</td>\n",
       "    </tr>\n",
       "  </tbody>\n",
       "</table>\n",
       "</div>"
      ],
      "text/plain": [
       "   reviews  overall_satisfaction  accommodates  bedrooms\n",
       "0       40                     5             2         2"
      ]
     },
     "execution_count": 15,
     "metadata": {},
     "output_type": "execute_result"
    }
   ],
   "source": [
    "new_appartment"
   ]
  },
  {
   "cell_type": "code",
   "execution_count": 16,
   "metadata": {
    "slideshow": {
     "slide_type": "fragment"
    }
   },
   "outputs": [
    {
     "name": "stdout",
     "output_type": "stream",
     "text": [
      "Predicted Airbnb Value: € 152.9711341882695\n"
     ]
    }
   ],
   "source": [
    "new_price = model.predict(new_appartment)\n",
    "print (\"Predicted Airbnb Value: € {}\".format(new_price[0]))"
   ]
  },
  {
   "cell_type": "markdown",
   "metadata": {
    "slideshow": {
     "slide_type": "slide"
    }
   },
   "source": [
    "#### Exploring more features"
   ]
  },
  {
   "cell_type": "markdown",
   "metadata": {
    "slideshow": {
     "slide_type": "fragment"
    }
   },
   "source": [
    "Although we often think of multiple regression as including multiple different features, we can also consider transformations of existing features e.g. the log of the accommodates.\n",
    "\n",
    "You will use the logarithm function to create a new feature. so first you should import it from the math library."
   ]
  },
  {
   "cell_type": "code",
   "execution_count": 17,
   "metadata": {
    "slideshow": {
     "slide_type": "fragment"
    }
   },
   "outputs": [],
   "source": [
    "from math import log, sqrt"
   ]
  },
  {
   "cell_type": "markdown",
   "metadata": {
    "slideshow": {
     "slide_type": "subslide"
    }
   },
   "source": [
    "Create the following 2 new features as column in both TEST and TRAIN data:\n",
    "\n",
    "bedrooms_squared = bedrooms*bedrooms  \n",
    "log_accommodates = log(accomodaties)"
   ]
  },
  {
   "cell_type": "code",
   "execution_count": 20,
   "metadata": {
    "slideshow": {
     "slide_type": "fragment"
    }
   },
   "outputs": [],
   "source": [
    "X_train['bedrooms_squared'] = X_train['bedrooms']*X_train['bedrooms']\n",
    "X_test['bedrooms_squared'] = X_test['bedrooms']*X_test['bedrooms']\n",
    "X_train['log_accommodates'] = [log(float(i)) for i in X_train['accommodates']]\n",
    "X_test['log_accommodates'] = [log(float(i)) for i in X_test['accommodates']]"
   ]
  },
  {
   "cell_type": "code",
   "execution_count": 19,
   "metadata": {},
   "outputs": [
    {
     "data": {
      "text/plain": [
       "<matplotlib.axes._subplots.AxesSubplot at 0x1a1027f588>"
      ]
     },
     "execution_count": 19,
     "metadata": {},
     "output_type": "execute_result"
    },
    {
     "data": {
      "image/png": "[encoded data removed]",
      "text/plain": [
       "<Figure size 432x288 with 1 Axes>"
      ]
     },
     "metadata": {},
     "output_type": "display_data"
    }
   ],
   "source": [
    "sns.distplot(X_train['accommodates'])"
   ]
  },
  {
   "cell_type": "markdown",
   "metadata": {
    "slideshow": {
     "slide_type": "fragment"
    }
   },
   "source": [
    "Squaring bedrooms will increase the separation between not many bedrooms (e.g. 1) and lots of bedrooms (e.g. 4) since 1^2 = 1 but 4^2 = 16. Consequently this feature will mostly affect houses with many bedrooms.\n",
    "Taking the log of squarefeet has the effect of bringing large values closer together and spreading out small values."
   ]
  },
  {
   "cell_type": "markdown",
   "metadata": {
    "slideshow": {
     "slide_type": "slide"
    }
   },
   "source": [
    "#### Features Analysis and Selection\n",
    "Now we will learn the weights for two (nested) model configuration for predicting prices. The first model will have the fewest features the second model will add the rest."
   ]
  },
  {
   "cell_type": "code",
   "execution_count": 22,
   "metadata": {
    "slideshow": {
     "slide_type": "fragment"
    }
   },
   "outputs": [],
   "source": [
    "model_1_features = ['reviews','overall_satisfaction']\n",
    "model_2_features = model_1_features + ['bedrooms_squared','log_accommodates']"
   ]
  },
  {
   "cell_type": "markdown",
   "metadata": {
    "slideshow": {
     "slide_type": "subslide"
    }
   },
   "source": [
    "Now we train with the new selections"
   ]
  },
  {
   "cell_type": "code",
   "execution_count": 23,
   "metadata": {
    "slideshow": {
     "slide_type": "fragment"
    }
   },
   "outputs": [
    {
     "data": {
      "text/plain": [
       "LinearRegression(copy_X=True, fit_intercept=True, n_jobs=1, normalize=False)"
      ]
     },
     "execution_count": 23,
     "metadata": {},
     "output_type": "execute_result"
    }
   ],
   "source": [
    "model_1 = LinearRegression()\n",
    "model_1.fit(X_train[model_1_features], y_train)"
   ]
  },
  {
   "cell_type": "code",
   "execution_count": 24,
   "metadata": {},
   "outputs": [
    {
     "data": {
      "text/plain": [
       "array([-0.24397798, -0.49686217])"
      ]
     },
     "execution_count": 24,
     "metadata": {},
     "output_type": "execute_result"
    }
   ],
   "source": [
    "model_1.coef_"
   ]
  },
  {
   "cell_type": "code",
   "execution_count": 25,
   "metadata": {
    "slideshow": {
     "slide_type": "fragment"
    }
   },
   "outputs": [
    {
     "data": {
      "text/plain": [
       "LinearRegression(copy_X=True, fit_intercept=True, n_jobs=1, normalize=False)"
      ]
     },
     "execution_count": 25,
     "metadata": {},
     "output_type": "execute_result"
    }
   ],
   "source": [
    "model_2 = LinearRegression()\n",
    "model_2.fit(X_train[model_2_features], y_train)"
   ]
  },
  {
   "cell_type": "code",
   "execution_count": 26,
   "metadata": {},
   "outputs": [
    {
     "data": {
      "text/plain": [
       "array([-0.14282294,  0.58299603,  5.14630025, 90.34875174])"
      ]
     },
     "execution_count": 26,
     "metadata": {},
     "output_type": "execute_result"
    }
   ],
   "source": [
    "model_2.coef_"
   ]
  },
  {
   "cell_type": "code",
   "execution_count": 30,
   "metadata": {
    "slideshow": {
     "slide_type": "subslide"
    }
   },
   "outputs": [],
   "source": [
    "predictions_1 = model_1.predict(X_test[model_1_features])\n",
    "predictions_2 = model_2.predict(X_test[model_2_features])"
   ]
  },
  {
   "cell_type": "code",
   "execution_count": 38,
   "metadata": {
    "slideshow": {
     "slide_type": "fragment"
    }
   },
   "outputs": [
    {
     "name": "stdout",
     "output_type": "stream",
     "text": [
      "real value: 107\n",
      "predicted value: 162.6804409351625\n"
     ]
    }
   ],
   "source": [
    "print ('real value: {}\\npredicted value: {}'.format(\n",
    "    y_test.values[10], predictions_1[10]))"
   ]
  },
  {
   "cell_type": "code",
   "execution_count": 35,
   "metadata": {},
   "outputs": [
    {
     "data": {
      "text/plain": [
       "array([162.92441892, 170.28383636, 165.36419876, ..., 165.85215473,\n",
       "       167.55554752, 129.74341306])"
      ]
     },
     "execution_count": 35,
     "metadata": {},
     "output_type": "execute_result"
    }
   ],
   "source": [
    "predictions_1"
   ]
  },
  {
   "cell_type": "markdown",
   "metadata": {
    "slideshow": {
     "slide_type": "slide"
    }
   },
   "source": [
    "## Cross Validation\n",
    "<img src=\"../img/cvali.png\" width=\"900\">"
   ]
  },
  {
   "cell_type": "code",
   "execution_count": 42,
   "metadata": {
    "slideshow": {
     "slide_type": "subslide"
    }
   },
   "outputs": [],
   "source": [
    "from sklearn.model_selection import cross_val_predict\n",
    "predicted = cross_val_predict(model, X_train, y_train, cv=5)"
   ]
  },
  {
   "cell_type": "code",
   "execution_count": 45,
   "metadata": {
    "scrolled": true,
    "slideshow": {
     "slide_type": "fragment"
    }
   },
   "outputs": [
    {
     "data": {
      "text/plain": [
       "Text(0,0.5,'Predicted')"
      ]
     },
     "execution_count": 45,
     "metadata": {},
     "output_type": "execute_result"
    },
    {
     "data": {
      "image/png": "[encoded data removed]",
      "text/plain": [
       "<Figure size 432x288 with 1 Axes>"
      ]
     },
     "metadata": {},
     "output_type": "display_data"
    }
   ],
   "source": [
    "plt.scatter(y_train, predicted)\n",
    "plt.plot([y_train.min(), y_train.max()], [y_train.min(), y_train.max()], 'k--')\n",
    "plt.xlabel('Real')\n",
    "plt.ylabel('Predicted')"
   ]
  },
  {
   "cell_type": "markdown",
   "metadata": {
    "slideshow": {
     "slide_type": "fragment"
    }
   },
   "source": [
    "How do we know how good are the models?"
   ]
  },
  {
   "cell_type": "markdown",
   "metadata": {
    "slideshow": {
     "slide_type": "slide"
    }
   },
   "source": [
    "## Regression Metrics\n",
    "(goodness of fit)"
   ]
  },
  {
   "cell_type": "markdown",
   "metadata": {
    "slideshow": {
     "slide_type": "subslide"
    }
   },
   "source": [
    "### Mean Squared Error\n",
    "\n",
    "Mean Squared Error(MSE) is the average of the square between the Original Values and the Predicted Values.It gives an idea of how wrong the predictions were.\n",
    "\n",
    "$$\\Large MSE = \\frac{1}{N} \\sum\\limits_{i = 1}^{N} ( {y_i - \\hat{y_i}} )^2$$\n",
    "\n",
    "$$ MSE = Average(Actual\\ target\\ value - Predicted\\ target\\ value)^2$$"
   ]
  },
  {
   "cell_type": "code",
   "execution_count": 46,
   "metadata": {
    "slideshow": {
     "slide_type": "fragment"
    }
   },
   "outputs": [],
   "source": [
    "from sklearn.metrics import mean_squared_error"
   ]
  },
  {
   "cell_type": "code",
   "execution_count": 47,
   "metadata": {
    "slideshow": {
     "slide_type": "subslide"
    }
   },
   "outputs": [],
   "source": [
    "mse1 = mean_squared_error(y_test, predictions_1)\n",
    "mse2 = mean_squared_error(y_test, predictions_2)"
   ]
  },
  {
   "cell_type": "markdown",
   "metadata": {
    "slideshow": {
     "slide_type": "fragment"
    }
   },
   "source": [
    "The squared root will give a better perspective"
   ]
  },
  {
   "cell_type": "code",
   "execution_count": 50,
   "metadata": {
    "slideshow": {
     "slide_type": "fragment"
    }
   },
   "outputs": [
    {
     "name": "stdout",
     "output_type": "stream",
     "text": [
      "86.09530401918047 71.11677415292911\n"
     ]
    }
   ],
   "source": [
    "print(sqrt(mse1), sqrt(mse2))"
   ]
  },
  {
   "cell_type": "code",
   "execution_count": 51,
   "metadata": {
    "slideshow": {
     "slide_type": "fragment"
    }
   },
   "outputs": [
    {
     "data": {
      "text/plain": [
       "164.8257194821868"
      ]
     },
     "execution_count": 51,
     "metadata": {},
     "output_type": "execute_result"
    }
   ],
   "source": [
    "dataset.price.mean()"
   ]
  },
  {
   "cell_type": "markdown",
   "metadata": {
    "slideshow": {
     "slide_type": "fragment"
    }
   },
   "source": [
    "What does this mean?"
   ]
  },
  {
   "cell_type": "markdown",
   "metadata": {
    "slideshow": {
     "slide_type": "subslide"
    }
   },
   "source": [
    "<img src=\"../img/reg1.png\" width=\"800\">"
   ]
  },
  {
   "cell_type": "markdown",
   "metadata": {
    "slideshow": {
     "slide_type": "slide"
    }
   },
   "source": [
    "### R Squared\n",
    "\n",
    "The $R^2$ (or R Squared) metric provides an indication of how well the model captures the variance in the data. It ranges between 0 and 1 for no-variance explained to complete variance captured respectively.\n",
    "\n",
    "$$(Residual\\ Square\\ sum)\\ RSS = \\sum\\limits_{i = 1}^{N} (Actual\\ target\\ value - Predicted\\ target\\ value)$$\n",
    "\n",
    "$$(Total\\ Square\\ sum)\\ TSS = \\sum\\limits_{i = 1}^{N} (Actual\\ target\\ value - Mean\\ target\\ value)$$"
   ]
  },
  {
   "cell_type": "markdown",
   "metadata": {
    "slideshow": {
     "slide_type": "subslide"
    }
   },
   "source": [
    "$$\\Large R^2 = \\Large (1 - \\frac{RSS}{TSS})$$"
   ]
  },
  {
   "cell_type": "code",
   "execution_count": 53,
   "metadata": {
    "slideshow": {
     "slide_type": "fragment"
    }
   },
   "outputs": [],
   "source": [
    "from sklearn.metrics import r2_score"
   ]
  },
  {
   "cell_type": "code",
   "execution_count": 54,
   "metadata": {
    "slideshow": {
     "slide_type": "subslide"
    }
   },
   "outputs": [],
   "source": [
    "r2_score1 = r2_score(y_test, predictions_1)\n",
    "r2_score2 = r2_score(y_test, predictions_2)"
   ]
  },
  {
   "cell_type": "code",
   "execution_count": 55,
   "metadata": {
    "slideshow": {
     "slide_type": "fragment"
    }
   },
   "outputs": [
    {
     "name": "stdout",
     "output_type": "stream",
     "text": [
      "0.008267011503395372 0.3233253149668426\n"
     ]
    }
   ],
   "source": [
    "print(r2_score1, r2_score2)"
   ]
  },
  {
   "cell_type": "code",
   "execution_count": 56,
   "metadata": {
    "slideshow": {
     "slide_type": "subslide"
    }
   },
   "outputs": [
    {
     "data": {
      "text/plain": [
       "Text(0,0.5,'R2 Score')"
      ]
     },
     "execution_count": 56,
     "metadata": {},
     "output_type": "execute_result"
    },
    {
     "data": {
      "image/png": "[encoded data removed]",
      "text/plain": [
       "<Figure size 432x288 with 1 Axes>"
      ]
     },
     "metadata": {},
     "output_type": "display_data"
    }
   ],
   "source": [
    "plt.bar([1,2], [r2_score1, r2_score2])\n",
    "plt.xticks([1,2], ['model1','model2'])\n",
    "plt.ylabel('R2 Score')"
   ]
  },
  {
   "cell_type": "markdown",
   "metadata": {
    "slideshow": {
     "slide_type": "fragment"
    }
   },
   "source": [
    "The closest to one the better otherwise isn't explaining the variance of the errors."
   ]
  },
  {
   "cell_type": "markdown",
   "metadata": {
    "slideshow": {
     "slide_type": "subslide"
    }
   },
   "source": [
    "How to select the most relevant features for prediction?"
   ]
  },
  {
   "cell_type": "markdown",
   "metadata": {
    "slideshow": {
     "slide_type": "slide"
    }
   },
   "source": [
    "### Recursive Feature Elimination - Cross Validation\n",
    "\n",
    "Recursive feature elimination (RFE) is a feature selection method that fits a model and removes the weakest feature (or features) until the specified number of features is reached. Features are ranked by the model’s coef_ or feature_importances_ attributes, and by recursively eliminating a small number of features per loop, RFE attempts to eliminate dependencies and collinearity that may exist in the model."
   ]
  },
  {
   "cell_type": "code",
   "execution_count": 58,
   "metadata": {
    "slideshow": {
     "slide_type": "fragment"
    }
   },
   "outputs": [],
   "source": [
    "from sklearn.feature_selection import RFECV"
   ]
  },
  {
   "cell_type": "code",
   "execution_count": 59,
   "metadata": {
    "slideshow": {
     "slide_type": "subslide"
    }
   },
   "outputs": [
    {
     "data": {
      "text/plain": [
       "RFECV(cv=5,\n",
       "   estimator=LinearRegression(copy_X=True, fit_intercept=True, n_jobs=1, normalize=False),\n",
       "   n_jobs=1, scoring=None, step=1, verbose=0)"
      ]
     },
     "execution_count": 59,
     "metadata": {},
     "output_type": "execute_result"
    }
   ],
   "source": [
    "lr = LinearRegression()\n",
    "selector = RFECV(lr,cv=5) # n fold cross validation\n",
    "selector.fit(X_train, y_train)"
   ]
  },
  {
   "cell_type": "code",
   "execution_count": 60,
   "metadata": {
    "slideshow": {
     "slide_type": "fragment"
    }
   },
   "outputs": [
    {
     "data": {
      "text/plain": [
       "array([ True,  True,  True,  True,  True,  True])"
      ]
     },
     "execution_count": 60,
     "metadata": {},
     "output_type": "execute_result"
    }
   ],
   "source": [
    "selector.support_"
   ]
  },
  {
   "cell_type": "code",
   "execution_count": 61,
   "metadata": {
    "slideshow": {
     "slide_type": "fragment"
    }
   },
   "outputs": [
    {
     "data": {
      "text/plain": [
       "Index(['reviews', 'overall_satisfaction', 'accommodates', 'bedrooms',\n",
       "       'bedrooms_squared', 'log_accommodates'],\n",
       "      dtype='object')"
      ]
     },
     "execution_count": 61,
     "metadata": {},
     "output_type": "execute_result"
    }
   ],
   "source": [
    "optimized_columns = X_train.columns[selector.support_]\n",
    "optimized_columns"
   ]
  },
  {
   "cell_type": "code",
   "execution_count": 62,
   "metadata": {
    "scrolled": true,
    "slideshow": {
     "slide_type": "fragment"
    }
   },
   "outputs": [
    {
     "data": {
      "text/plain": [
       "array([1, 1, 1, 1, 1, 1])"
      ]
     },
     "execution_count": 62,
     "metadata": {},
     "output_type": "execute_result"
    }
   ],
   "source": [
    "selector.ranking_"
   ]
  },
  {
   "cell_type": "markdown",
   "metadata": {
    "slideshow": {
     "slide_type": "slide"
    }
   },
   "source": [
    "### Score distribution"
   ]
  },
  {
   "cell_type": "code",
   "execution_count": 65,
   "metadata": {
    "slideshow": {
     "slide_type": "fragment"
    }
   },
   "outputs": [],
   "source": [
    "model_scores = []\n",
    "for repetition in range(1000):\n",
    "    X_train, X_test, y_train, y_test = train_test_split(X, y, test_size=0.2)\n",
    "    model = LinearRegression()\n",
    "    model.fit(X_train, y_train)\n",
    "    y_predict = model.predict(X_test)\n",
    "    rmse = sqrt(mean_squared_error(y_test, y_predict))\n",
    "    model_scores.append(rmse)"
   ]
  },
  {
   "cell_type": "code",
   "execution_count": 66,
   "metadata": {},
   "outputs": [
    {
     "data": {
      "text/plain": [
       "[74.65930480501446,\n",
       " 73.12915968237148,\n",
       " 70.1786497229411,\n",
       " 75.81261988367487,\n",
       " 72.19648083550507,\n",
       " 70.43654307808129,\n",
       " 71.95973103402768,\n",
       " 69.83783080157956,\n",
       " 70.03915196600992,\n",
       " 72.38964060899502,\n",
       " 74.16910963663946,\n",
       " 73.60805344832683,\n",
       " 73.46586136902368,\n",
       " 72.76067664161422,\n",
       " 73.07624391128445,\n",
       " 72.93745153843106,\n",
       " 73.421464065609,\n",
       " 69.55119721674117,\n",
       " 70.72091701399307,\n",
       " 69.95502741002878,\n",
       " 72.28482491712741,\n",
       " 70.47661427067834,\n",
       " 72.07860610734873,\n",
       " 70.35650175505715,\n",
       " 69.7373619900328,\n",
       " 72.39438626862646,\n",
       " 72.62338631381412,\n",
       " 69.4795910515223,\n",
       " 72.5794283863447,\n",
       " 69.77153647483911,\n",
       " 69.17100101540872,\n",
       " 76.1670332943517,\n",
       " 70.56219241664385,\n",
       " 73.73783301663718,\n",
       " 72.68411324729615,\n",
       " 69.83118644364474,\n",
       " 75.01827504031382,\n",
       " 73.40343896373852,\n",
       " 70.02614623911354,\n",
       " 69.24830745832364,\n",
       " 71.44431410031362,\n",
       " 70.19734639833271,\n",
       " 69.63560216146176,\n",
       " 72.62545115398274,\n",
       " 72.56695117073984,\n",
       " 71.83494336515749,\n",
       " 73.02927183774074,\n",
       " 69.28747696505064,\n",
       " 74.99427501999254,\n",
       " 71.45690256215126,\n",
       " 71.98565690422453,\n",
       " 73.59634502307107,\n",
       " 73.77819491835456,\n",
       " 70.90950278028043,\n",
       " 72.08724311767287,\n",
       " 71.42783742452588,\n",
       " 72.5336122206538,\n",
       " 74.66116132069305,\n",
       " 70.61284811603743,\n",
       " 76.13212720687685,\n",
       " 72.17928042608315,\n",
       " 70.68609876959883,\n",
       " 69.15134425030986,\n",
       " 74.46946174103935,\n",
       " 69.47782715103543,\n",
       " 72.93606736992042,\n",
       " 71.94573444461489,\n",
       " 73.41731576578516,\n",
       " 73.22873250970916,\n",
       " 71.09932615773035,\n",
       " 75.21023208275271,\n",
       " 73.41322745276216,\n",
       " 66.16532673792643,\n",
       " 69.9076306373206,\n",
       " 73.86193153429906,\n",
       " 75.34871845725117,\n",
       " 73.14385890365108,\n",
       " 75.17096405898602,\n",
       " 70.15242682356973,\n",
       " 71.97080188570719,\n",
       " 75.29419641985031,\n",
       " 72.34709617876813,\n",
       " 71.48329477521807,\n",
       " 70.75313797050524,\n",
       " 69.46001069494628,\n",
       " 72.6972313807954,\n",
       " 71.4443048868138,\n",
       " 72.06545181449788,\n",
       " 75.37505943991543,\n",
       " 68.31955110241094,\n",
       " 77.02823477659852,\n",
       " 73.05643741125807,\n",
       " 69.90423059483768,\n",
       " 71.92974368883641,\n",
       " 73.80679070483292,\n",
       " 72.00878571824377,\n",
       " 70.3394232280956,\n",
       " 73.72759012481096,\n",
       " 72.2926718210037,\n",
       " 71.56036584997074,\n",
       " 73.35299384319165,\n",
       " 72.21288179322674,\n",
       " 69.19999774801158,\n",
       " 72.71391646143182,\n",
       " 72.91123762810051,\n",
       " 72.00795234658574,\n",
       " 71.53461774983859,\n",
       " 72.80312687635647,\n",
       " 70.50808458278348,\n",
       " 69.30755482584249,\n",
       " 68.68846265657585,\n",
       " 71.24089920973574,\n",
       " 72.71567265091052,\n",
       " 73.79481090782954,\n",
       " 69.64651218305043,\n",
       " 72.64474231245833,\n",
       " 71.5455635993272,\n",
       " 71.8409606485756,\n",
       " 73.36442633306714,\n",
       " 69.60617142921733,\n",
       " 73.34660261396674,\n",
       " 71.2343120910378,\n",
       " 73.1803429395318,\n",
       " 71.69646423101935,\n",
       " 72.3814968602716,\n",
       " 72.56217246355607,\n",
       " 72.97965034088425,\n",
       " 73.84317060197787,\n",
       " 74.20393959234903,\n",
       " 67.83257186500767,\n",
       " 71.49550235374362,\n",
       " 70.64498448975759,\n",
       " 71.65257598938406,\n",
       " 68.51701840024245,\n",
       " 71.1901841950543,\n",
       " 74.68040717900564,\n",
       " 72.70605125971365,\n",
       " 70.21898439842663,\n",
       " 72.44208230253037,\n",
       " 75.04165514059883,\n",
       " 70.99572627257042,\n",
       " 70.84934455199472,\n",
       " 71.80345102291669,\n",
       " 74.40070279583463,\n",
       " 73.82511215782566,\n",
       " 75.91031450254555,\n",
       " 72.66811383207694,\n",
       " 69.26965175349694,\n",
       " 72.37676890695374,\n",
       " 72.29756832147777,\n",
       " 70.59381636217394,\n",
       " 69.62511785212145,\n",
       " 73.22683852717195,\n",
       " 72.83213411021715,\n",
       " 71.34234887370582,\n",
       " 71.54148415554779,\n",
       " 70.45450301404529,\n",
       " 73.85183704383402,\n",
       " 73.07806225133594,\n",
       " 73.03490396585167,\n",
       " 74.37897091476502,\n",
       " 70.10174263504051,\n",
       " 71.81253249208198,\n",
       " 72.30796046538339,\n",
       " 71.29043345320466,\n",
       " 73.83548022737875,\n",
       " 69.37320397417993,\n",
       " 72.22147305780899,\n",
       " 74.06602494765427,\n",
       " 70.68004308648733,\n",
       " 70.9488027567129,\n",
       " 66.88773447467999,\n",
       " 72.6817830150458,\n",
       " 69.09183786266581,\n",
       " 69.78145313300507,\n",
       " 70.64082547500044,\n",
       " 73.73922217205785,\n",
       " 74.18418583899823,\n",
       " 72.11947650042087,\n",
       " 70.97919950342843,\n",
       " 71.82372702395917,\n",
       " 71.45565489049902,\n",
       " 71.93975058773314,\n",
       " 71.34587223486776,\n",
       " 72.35888109641148,\n",
       " 72.28492468163422,\n",
       " 72.53550932204281,\n",
       " 73.78856398327689,\n",
       " 73.07607803164547,\n",
       " 70.24339197850053,\n",
       " 76.40599451466,\n",
       " 72.2984297300924,\n",
       " 73.6399619366562,\n",
       " 71.93947386115671,\n",
       " 74.72106180463379,\n",
       " 71.7128449307507,\n",
       " 71.12452431410824,\n",
       " 76.1443387667432,\n",
       " 71.48617683943161,\n",
       " 70.38732576907987,\n",
       " 70.30193237761075,\n",
       " 70.25850904559978,\n",
       " 75.32315246421395,\n",
       " 71.17036163378278,\n",
       " 71.46621345826225,\n",
       " 77.02724817220495,\n",
       " 75.18077692988871,\n",
       " 72.53574744482114,\n",
       " 75.20961153686696,\n",
       " 71.65903995458669,\n",
       " 73.82116276298363,\n",
       " 68.22199902312526,\n",
       " 71.7147042786365,\n",
       " 72.60641590592654,\n",
       " 71.59542616003031,\n",
       " 72.39602787716147,\n",
       " 72.98048862860827,\n",
       " 72.05866741621547,\n",
       " 76.77560802193187,\n",
       " 74.64273708825154,\n",
       " 73.21205692807743,\n",
       " 71.60428897743806,\n",
       " 71.83892082677129,\n",
       " 72.92635040188402,\n",
       " 72.48033224526365,\n",
       " 73.86000685967113,\n",
       " 71.18389595672387,\n",
       " 72.15486249938284,\n",
       " 72.950527070136,\n",
       " 74.01195589267178,\n",
       " 74.68559321501446,\n",
       " 69.20624653097433,\n",
       " 70.86983711732961,\n",
       " 74.68730157489789,\n",
       " 74.10514872262169,\n",
       " 74.92417989977338,\n",
       " 72.62629914067419,\n",
       " 70.12705218264782,\n",
       " 71.31883724870593,\n",
       " 72.41068486568734,\n",
       " 71.7892862451444,\n",
       " 68.36091679033933,\n",
       " 71.1499736892792,\n",
       " 70.5461165388676,\n",
       " 77.80963777473006,\n",
       " 73.90761717868405,\n",
       " 73.83433125370416,\n",
       " 73.37303385959285,\n",
       " 70.94777202588536,\n",
       " 72.84088406140098,\n",
       " 73.13963792780089,\n",
       " 69.44274942453407,\n",
       " 73.96207745281974,\n",
       " 73.73506351690011,\n",
       " 72.03231090428888,\n",
       " 70.69771072276873,\n",
       " 72.4847245518837,\n",
       " 72.74135930085765,\n",
       " 75.84189302491417,\n",
       " 73.91289384722815,\n",
       " 75.64155309326014,\n",
       " 71.58994244905723,\n",
       " 72.06665133428001,\n",
       " 72.33773989241574,\n",
       " 73.21318716847433,\n",
       " 73.36773436242039,\n",
       " 69.70260680099007,\n",
       " 72.84970847477791,\n",
       " 72.36747058083307,\n",
       " 67.37061618725335,\n",
       " 71.31476946936723,\n",
       " 71.29973504578884,\n",
       " 68.74957190899848,\n",
       " 75.91864987645134,\n",
       " 73.4805892111429,\n",
       " 75.03867745827384,\n",
       " 69.32573899885925,\n",
       " 71.1308857904113,\n",
       " 70.71274084758493,\n",
       " 72.83114762330582,\n",
       " 70.81134726817557,\n",
       " 71.53203891024732,\n",
       " 70.54066511411469,\n",
       " 74.53322258345428,\n",
       " 73.11711164135475,\n",
       " 71.5251710029227,\n",
       " 74.12251999472045,\n",
       " 69.35495896821817,\n",
       " 72.32312854446644,\n",
       " 73.29169840957739,\n",
       " 73.96042330316327,\n",
       " 72.16797928075839,\n",
       " 71.78932166396201,\n",
       " 70.71755393075452,\n",
       " 72.30998282922384,\n",
       " 71.7210450232653,\n",
       " 71.22787854805343,\n",
       " 71.65415447378295,\n",
       " 70.97304830235637,\n",
       " 73.19954083393145,\n",
       " 71.88783741968737,\n",
       " 71.18165645471774,\n",
       " 72.28070705223695,\n",
       " 68.14447787161554,\n",
       " 73.06928324048087,\n",
       " 68.51296584844732,\n",
       " 71.07426283254965,\n",
       " 68.71853304073814,\n",
       " 72.34114427239996,\n",
       " 70.27359206285827,\n",
       " 70.84751421510617,\n",
       " 70.89302099305947,\n",
       " 69.1843769158355,\n",
       " 68.65312232012366,\n",
       " 75.70145297741226,\n",
       " 74.91987794050803,\n",
       " 71.02259373885812,\n",
       " 69.80153358289157,\n",
       " 73.1456690892272,\n",
       " 71.37445150118342,\n",
       " 72.64658503877163,\n",
       " 72.66694985235425,\n",
       " 71.24551754871588,\n",
       " 74.76333111265843,\n",
       " 71.18429663707914,\n",
       " 74.14010027764601,\n",
       " 72.38984558265766,\n",
       " 71.52621303717088,\n",
       " 68.91443626487575,\n",
       " 72.21183230306224,\n",
       " 71.67432320943551,\n",
       " 69.78859584659463,\n",
       " 73.74583082072164,\n",
       " 73.2211865482826,\n",
       " 74.30979620238385,\n",
       " 71.285216371525,\n",
       " 68.81344420898921,\n",
       " 71.82440634597432,\n",
       " 71.95798190692167,\n",
       " 69.66604806380295,\n",
       " 71.23295702919415,\n",
       " 71.19002424120126,\n",
       " 74.78964829187223,\n",
       " 71.69644918290734,\n",
       " 69.84520600650463,\n",
       " 73.71892179518886,\n",
       " 71.61056989539189,\n",
       " 72.23225666340925,\n",
       " 71.44440828663559,\n",
       " 68.66943878721789,\n",
       " 68.70176446948601,\n",
       " 70.11638385502692,\n",
       " 69.54909922413208,\n",
       " 72.65141666807767,\n",
       " 73.62889003092982,\n",
       " 72.94947849449125,\n",
       " 72.9748635248504,\n",
       " 70.51725197586485,\n",
       " 73.39228148102437,\n",
       " 72.28213378898856,\n",
       " 72.3328329226832,\n",
       " 71.88475267644671,\n",
       " 70.75520267332199,\n",
       " 74.17746970722304,\n",
       " 73.34085175979676,\n",
       " 72.82645196213727,\n",
       " 74.81532986488308,\n",
       " 72.04132217138836,\n",
       " 72.8925136792684,\n",
       " 71.2198574795793,\n",
       " 72.4609251467815,\n",
       " 71.84996503597995,\n",
       " 72.237308929992,\n",
       " 74.11292801157252,\n",
       " 69.31220996601823,\n",
       " 71.56990461812185,\n",
       " 75.15286861134055,\n",
       " 71.13239796721297,\n",
       " 69.46034856469817,\n",
       " 71.47585977270488,\n",
       " 72.81515312811077,\n",
       " 69.89493205244277,\n",
       " 70.48541481781393,\n",
       " 70.19462187867617,\n",
       " 73.13046150603418,\n",
       " 72.20059916813527,\n",
       " 72.00627591324648,\n",
       " 74.5710976626058,\n",
       " 71.04457675115637,\n",
       " 74.90707299130536,\n",
       " 76.38284301437407,\n",
       " 68.07604990896924,\n",
       " 73.82352758531114,\n",
       " 72.0684823900912,\n",
       " 75.1712778700975,\n",
       " 72.8616696812457,\n",
       " 71.23121784709744,\n",
       " 70.45551733191047,\n",
       " 71.61151439888766,\n",
       " 71.00329603343118,\n",
       " 72.42479798482563,\n",
       " 69.87405418003476,\n",
       " 72.71154487689549,\n",
       " 72.76308855946547,\n",
       " 73.94776074655569,\n",
       " 73.53180704532835,\n",
       " 72.34733217133686,\n",
       " 73.76045812920925,\n",
       " 72.19291916314879,\n",
       " 71.1869117370358,\n",
       " 74.48134533467609,\n",
       " 71.61562489514448,\n",
       " 70.63478213497932,\n",
       " 73.3249863905725,\n",
       " 71.50438384003172,\n",
       " 69.90347778692245,\n",
       " 77.18518166004678,\n",
       " 74.17274567408246,\n",
       " 73.59498688135089,\n",
       " 72.04976937101732,\n",
       " 70.26132260105315,\n",
       " 75.36270777138493,\n",
       " 72.98786622065423,\n",
       " 72.67080727283323,\n",
       " 70.5617111809638,\n",
       " 73.93648565366865,\n",
       " 72.87149008091036,\n",
       " 71.73318967901471,\n",
       " 71.1267189287037,\n",
       " 68.05708629967287,\n",
       " 74.03645071124849,\n",
       " 72.4903129123567,\n",
       " 71.44801318326328,\n",
       " 73.9879613957328,\n",
       " 74.27386168517165,\n",
       " 72.6891947584023,\n",
       " 73.96138020893099,\n",
       " 70.11385873246026,\n",
       " 70.98797262859202,\n",
       " 70.92967968103275,\n",
       " 69.88427859678347,\n",
       " 73.34422125624229,\n",
       " 71.63916246122294,\n",
       " 73.705785060212,\n",
       " 70.18560170189103,\n",
       " 70.6988598090292,\n",
       " 69.01799984396106,\n",
       " 69.47002284353216,\n",
       " 73.8075851346572,\n",
       " 72.51716806692947,\n",
       " 74.19658992466282,\n",
       " 72.64111987187157,\n",
       " 68.5271783486829,\n",
       " 68.83379996966066,\n",
       " 70.17154399953043,\n",
       " 73.6661805123319,\n",
       " 72.35396346222177,\n",
       " 71.17982216904475,\n",
       " 69.4836649946412,\n",
       " 71.86638912988217,\n",
       " 70.14290746255784,\n",
       " 76.85697301390708,\n",
       " 73.12886351340077,\n",
       " 70.77537880541297,\n",
       " 74.55902933704007,\n",
       " 73.53998470284012,\n",
       " 72.23763447624832,\n",
       " 73.4441892169487,\n",
       " 69.02064969738302,\n",
       " 77.7916738165209,\n",
       " 74.59988607403456,\n",
       " 71.87190654943277,\n",
       " 73.62821766293612,\n",
       " 71.09353537953173,\n",
       " 73.16590138249168,\n",
       " 73.57663075151126,\n",
       " 70.42814567602852,\n",
       " 72.78688994733945,\n",
       " 74.3284034004342,\n",
       " 69.91375323172251,\n",
       " 72.0060603098702,\n",
       " 72.81642623557813,\n",
       " 73.37613317722008,\n",
       " 71.12233085890762,\n",
       " 71.71938696149682,\n",
       " 71.63221931044967,\n",
       " 72.37335823694922,\n",
       " 70.83679450530813,\n",
       " 72.75084523105684,\n",
       " 69.2636395450891,\n",
       " 69.65784002571814,\n",
       " 70.99431849268373,\n",
       " 74.73883533622246,\n",
       " 74.04229897752748,\n",
       " 74.11509557830783,\n",
       " 73.57666298787686,\n",
       " 72.64181040676607,\n",
       " 72.2366034190558,\n",
       " 73.50700014983352,\n",
       " 71.806594803749,\n",
       " 76.11613474060545,\n",
       " 69.86070766744862,\n",
       " 71.03738791480524,\n",
       " 72.2323278127975,\n",
       " 71.2008579965835,\n",
       " 72.82576795445028,\n",
       " 74.87431230513057,\n",
       " 70.58011427572973,\n",
       " 66.81915967915593,\n",
       " 72.47357154333471,\n",
       " 73.71503915521971,\n",
       " 72.0462221976524,\n",
       " 72.50296577929332,\n",
       " 74.81944990669028,\n",
       " 73.84010142103992,\n",
       " 71.43003630043282,\n",
       " 72.84034770984661,\n",
       " 69.9287702698226,\n",
       " 72.16204354333259,\n",
       " 71.3037407480331,\n",
       " 74.71585097659508,\n",
       " 69.69377219947341,\n",
       " 70.34878010490179,\n",
       " 71.05963539570811,\n",
       " 72.55986330705144,\n",
       " 69.86326859545517,\n",
       " 72.38898671765261,\n",
       " 70.56607070630047,\n",
       " 73.10129702475886,\n",
       " 71.71159258563351,\n",
       " 73.12883645070866,\n",
       " 71.43041683966703,\n",
       " 75.20473340744225,\n",
       " 73.51756686228883,\n",
       " 70.0665387179716,\n",
       " 71.41219785454126,\n",
       " 71.11127192212292,\n",
       " 71.90862955279545,\n",
       " 70.19724174468071,\n",
       " 75.05501282030146,\n",
       " 68.94789836067778,\n",
       " 70.885820503618,\n",
       " 73.62920652130491,\n",
       " 74.49337927356854,\n",
       " 74.37183668857467,\n",
       " 69.60986871560586,\n",
       " 71.68345269322715,\n",
       " 72.87651193492016,\n",
       " 71.47258950570092,\n",
       " 70.91267224530378,\n",
       " 70.90042940926556,\n",
       " 71.55567712183495,\n",
       " 70.5992733227112,\n",
       " 70.86743340813776,\n",
       " 71.8287923932235,\n",
       " 71.09175037365958,\n",
       " 75.25378422412365,\n",
       " 73.33002468785503,\n",
       " 74.73187346973104,\n",
       " 69.08984887260411,\n",
       " 73.19419845096343,\n",
       " 73.3005391794096,\n",
       " 72.39373841367683,\n",
       " 73.93458569184462,\n",
       " 72.5760925441679,\n",
       " 70.6994711834586,\n",
       " 70.72768095061522,\n",
       " 72.08161487122776,\n",
       " 71.8537693517424,\n",
       " 73.63601363013464,\n",
       " 70.9856366243277,\n",
       " 71.95883707307645,\n",
       " 70.23951622321862,\n",
       " 70.50329619202931,\n",
       " 71.09217735481498,\n",
       " 73.08717370038818,\n",
       " 71.01614230149025,\n",
       " 72.25846357655496,\n",
       " 72.59941207737278,\n",
       " 72.34086897537634,\n",
       " 73.7536598847058,\n",
       " 69.6774248275587,\n",
       " 69.90770845352787,\n",
       " 73.86005868647297,\n",
       " 71.67444726835416,\n",
       " 74.97891692691587,\n",
       " 72.45015257757242,\n",
       " 69.52199668283845,\n",
       " 76.04898318042186,\n",
       " 73.94742397604864,\n",
       " 71.51117867518484,\n",
       " 68.15940423762426,\n",
       " 71.88131835344907,\n",
       " 70.59480734366679,\n",
       " 74.1059843297624,\n",
       " 73.23652614226194,\n",
       " 70.15034308595135,\n",
       " 70.72649898409148,\n",
       " 72.19954257648841,\n",
       " 72.18199746664988,\n",
       " 73.4195697755479,\n",
       " 75.34412913312718,\n",
       " 73.39248549122705,\n",
       " 74.86443134842823,\n",
       " 72.73879719853541,\n",
       " 73.39733986156575,\n",
       " 71.86266461044251,\n",
       " 70.16658956561068,\n",
       " 71.61938706666699,\n",
       " 72.02824596333426,\n",
       " 72.14817938759276,\n",
       " 70.04199334792652,\n",
       " 70.97139687587128,\n",
       " 74.97967111907451,\n",
       " 70.41809991937107,\n",
       " 74.0432236000398,\n",
       " 72.80835444998314,\n",
       " 73.39238325429434,\n",
       " 72.57182974091708,\n",
       " 69.71464649187733,\n",
       " 70.59775147015667,\n",
       " 72.70365002478654,\n",
       " 75.3950781271962,\n",
       " 70.69271279272425,\n",
       " 71.50779911339077,\n",
       " 69.65842942045698,\n",
       " 71.46257458751101,\n",
       " 75.102805198603,\n",
       " 70.01574373011181,\n",
       " 71.83037938454925,\n",
       " 72.08833740464723,\n",
       " 72.58534811241888,\n",
       " 73.76465286602514,\n",
       " 70.6097285360748,\n",
       " 76.01487450911179,\n",
       " 70.16688590399353,\n",
       " 75.9413896274931,\n",
       " 74.81371356786583,\n",
       " 70.40470712539219,\n",
       " 69.50102337905693,\n",
       " 74.00420281476246,\n",
       " 69.43698375769397,\n",
       " 70.49295193941188,\n",
       " 69.38947679829101,\n",
       " 72.46247432621766,\n",
       " 70.29545451667103,\n",
       " 75.12417651732477,\n",
       " 71.58835651780201,\n",
       " 72.19037468185267,\n",
       " 70.65684052832995,\n",
       " 74.52716153279148,\n",
       " 70.53338805570229,\n",
       " 73.01538747185728,\n",
       " 70.6526010221589,\n",
       " 71.36670385242911,\n",
       " 70.44120888125939,\n",
       " 72.16670563868085,\n",
       " 72.16289801391731,\n",
       " 71.20234149426668,\n",
       " 71.93585882647523,\n",
       " 71.89437957823984,\n",
       " 71.97994814993037,\n",
       " 74.40799051810433,\n",
       " 70.46064844141895,\n",
       " 75.26504095206631,\n",
       " 71.20401071921086,\n",
       " 71.20105071397977,\n",
       " 71.90411755307592,\n",
       " 73.34238753525814,\n",
       " 70.86749343990004,\n",
       " 74.18122755324168,\n",
       " 70.98021663078008,\n",
       " 72.81518357927892,\n",
       " 71.92593407343331,\n",
       " 66.58921644625514,\n",
       " 67.70275420992591,\n",
       " 72.32106168459988,\n",
       " 69.76449820971823,\n",
       " 70.93740639920878,\n",
       " 72.82983619339159,\n",
       " 70.97313275784276,\n",
       " 70.76379385893941,\n",
       " 71.61723960886015,\n",
       " 70.51678340416531,\n",
       " 70.90340354154931,\n",
       " 73.19697706011341,\n",
       " 73.59044433112658,\n",
       " 70.28161265654457,\n",
       " 71.0913790566058,\n",
       " 73.62237165940262,\n",
       " 71.09324857739688,\n",
       " 73.8865413277305,\n",
       " 71.0453538677314,\n",
       " 71.69171405402226,\n",
       " 73.25951664516667,\n",
       " 73.26535539734027,\n",
       " 67.47826969855159,\n",
       " 75.04481685263858,\n",
       " 70.76157419563141,\n",
       " 73.65794369888911,\n",
       " 71.31551129373581,\n",
       " 69.81999117667326,\n",
       " 72.55063733635768,\n",
       " 70.2705373201909,\n",
       " 68.7339602151466,\n",
       " 71.25569628858072,\n",
       " 73.00461219621842,\n",
       " 72.93724710879671,\n",
       " 69.85254481905588,\n",
       " 69.70578815789001,\n",
       " 73.2068561861457,\n",
       " 70.6381994283232,\n",
       " 69.24485621994128,\n",
       " 69.36093497048633,\n",
       " 73.21001746164872,\n",
       " 72.49720758829729,\n",
       " 72.64522580691897,\n",
       " 69.39653360855964,\n",
       " 72.68748563405651,\n",
       " 69.61542198378719,\n",
       " 68.96258867256377,\n",
       " 70.28310222189867,\n",
       " 72.85492340517091,\n",
       " 72.85336978131531,\n",
       " 72.09922727599186,\n",
       " 73.70742084737651,\n",
       " 70.21446987944437,\n",
       " 69.92292484977331,\n",
       " 70.24327332924764,\n",
       " 75.19525304335289,\n",
       " 72.79456169953713,\n",
       " 70.3358785125387,\n",
       " 74.45023738458488,\n",
       " 71.25920611635091,\n",
       " 69.44468144678758,\n",
       " 75.38856930806877,\n",
       " 73.98672025174643,\n",
       " 73.47559150128954,\n",
       " 70.5425801798534,\n",
       " 71.1545456998628,\n",
       " 69.88833426076864,\n",
       " 71.96439613084382,\n",
       " 72.83447829574706,\n",
       " 68.92767447104073,\n",
       " 67.92439033849992,\n",
       " 70.94126899933804,\n",
       " 71.82182300237488,\n",
       " 71.2655290469753,\n",
       " 71.10539169811426,\n",
       " 72.64046421742583,\n",
       " 69.94690732988063,\n",
       " 72.09477691773225,\n",
       " 69.25633609722831,\n",
       " 73.20492692941146,\n",
       " 71.06996783020843,\n",
       " 70.98442577630054,\n",
       " 75.48683301852614,\n",
       " 73.11923624977193,\n",
       " 72.99878576845575,\n",
       " 68.94567589317693,\n",
       " 72.16730822823406,\n",
       " 76.00865733949615,\n",
       " 72.97623412125124,\n",
       " 72.5118754735716,\n",
       " 73.12765895718357,\n",
       " 71.38519863454407,\n",
       " 69.41107720934201,\n",
       " 69.5136393184112,\n",
       " 67.35511161470295,\n",
       " 72.32515672979108,\n",
       " 75.0922271652448,\n",
       " 71.31016328721603,\n",
       " 71.65328249842382,\n",
       " 69.50910358592246,\n",
       " 69.54986543061588,\n",
       " 69.97261703951983,\n",
       " 73.43090689614596,\n",
       " 71.6825456559582,\n",
       " 73.1183629796308,\n",
       " 70.63928703950045,\n",
       " 74.85600267370508,\n",
       " 68.30180429694694,\n",
       " 70.23314623672962,\n",
       " 77.06866557991114,\n",
       " 74.78999959608235,\n",
       " 70.97440825883147,\n",
       " 72.75929300788866,\n",
       " 71.1894825828255,\n",
       " 75.1352354616003,\n",
       " 72.75301742887396,\n",
       " 73.38283547357803,\n",
       " 71.67225044315013,\n",
       " 74.645812146725,\n",
       " 74.40859137837772,\n",
       " 71.79474243126006,\n",
       " 73.95758451459231,\n",
       " 71.2196902566476,\n",
       " 72.37453048438694,\n",
       " 70.97168219492009,\n",
       " 68.4378243394161,\n",
       " 73.79686137826303,\n",
       " 71.77790162466819,\n",
       " 75.37959197781475,\n",
       " 70.27045161798979,\n",
       " 72.68650499835528,\n",
       " 70.93935991793263,\n",
       " 72.86423057935315,\n",
       " 71.9748240202077,\n",
       " 70.0493288322502,\n",
       " 73.09365043162163,\n",
       " 75.99808918056807,\n",
       " 72.50244227223368,\n",
       " 73.93916107680198,\n",
       " 72.75345990381915,\n",
       " 68.35507967361889,\n",
       " 70.02234873180971,\n",
       " 70.95775017704483,\n",
       " 73.54657429101985,\n",
       " 71.69128038525332,\n",
       " 76.39646355159411,\n",
       " 74.01751679091683,\n",
       " 70.84545810456027,\n",
       " 69.71440950137323,\n",
       " 74.64977210509488,\n",
       " 73.41552734634867,\n",
       " 73.16508223793471,\n",
       " 71.45505432355871,\n",
       " 71.08333347206862,\n",
       " 72.7787513273521,\n",
       " 73.05764690028157,\n",
       " 73.64883000991723,\n",
       " 68.59435641216474,\n",
       " 71.92089201730911,\n",
       " 71.40919869217566,\n",
       " 72.20037805349267,\n",
       " 71.72561775456948,\n",
       " 70.50063983599371,\n",
       " 73.02211915701588,\n",
       " 68.40669982166828,\n",
       " 73.73874120738601,\n",
       " 72.71693333459007,\n",
       " 72.12468092647612,\n",
       " 75.25902558183935,\n",
       " 70.68579221366025,\n",
       " 71.73646504491592,\n",
       " 72.4125626060812,\n",
       " 72.22040647148086,\n",
       " 68.94643062846916,\n",
       " 72.04069556500295,\n",
       " 71.06239831500152,\n",
       " 74.41905712021905,\n",
       " 73.87053061138604,\n",
       " 71.24886649683677,\n",
       " 73.7685696468542,\n",
       " 74.50173174031727,\n",
       " 73.3979281233158,\n",
       " 69.55459698187572,\n",
       " 71.92418762612083,\n",
       " 71.36543937682275,\n",
       " 68.32108588784968,\n",
       " 71.1404294259763,\n",
       " 66.91151218538184,\n",
       " 67.96464268798347,\n",
       " 73.93629854233704,\n",
       " 73.13908665181044,\n",
       " 71.13298938617066,\n",
       " 71.77340424413549,\n",
       " 77.23676274522107,\n",
       " 71.13918815059799,\n",
       " 72.75462086282167,\n",
       " 72.0190652399017,\n",
       " 72.46168841815079,\n",
       " 72.76557261839521,\n",
       " 71.6524280048187,\n",
       " 71.98190216198721,\n",
       " 71.70981116537743,\n",
       " 72.17893210934157,\n",
       " 73.11603068610538,\n",
       " 69.3372799172024,\n",
       " 71.67857748985885,\n",
       " 70.00331495663464,\n",
       " 72.31997298969668,\n",
       " 71.83461997322517,\n",
       " 72.0622190764481,\n",
       " 73.33972987324007,\n",
       " 68.27821518758107,\n",
       " 71.58783659486383,\n",
       " 71.77948636605916,\n",
       " 70.47265587092534,\n",
       " 69.7971427999581,\n",
       " 74.61853847891116,\n",
       " 69.97461331605712,\n",
       " 72.94591555654773,\n",
       " 72.69321340026029,\n",
       " 72.2502762900406,\n",
       " 71.67648784866965,\n",
       " 70.96779419302888,\n",
       " 73.27633109946578,\n",
       " 73.88096886734046,\n",
       " 71.36188322463177,\n",
       " 73.23648722046941,\n",
       " 71.62884550389157,\n",
       " 73.05029126028593,\n",
       " 71.33072617358233,\n",
       " 68.9195313474232,\n",
       " 74.87130827404967,\n",
       " 72.24739248041564,\n",
       " 70.97170179421765,\n",
       " 72.07400364484681,\n",
       " 69.29264661030311,\n",
       " 68.38824510166363,\n",
       " 73.12839033652911,\n",
       " 73.87919441409323,\n",
       " 69.0230074419638,\n",
       " 69.88624971550276,\n",
       " 72.1593768047511,\n",
       " 73.10736776290129,\n",
       " 71.76978296936598,\n",
       " 70.37396820359824,\n",
       " 71.56853628278093,\n",
       " 68.89349654370761,\n",
       " 71.80750855409399,\n",
       " 71.86013606937253,\n",
       " 73.16440633071474,\n",
       " 73.09073422058364,\n",
       " 70.97684451358853,\n",
       " 69.15563375446072,\n",
       " 70.27725367976294,\n",
       " 71.55206834543402,\n",
       " 72.1813118950541,\n",
       " 70.61139464870793,\n",
       " 70.24175126322314,\n",
       " 73.0943285852694,\n",
       " 70.7768311424344,\n",
       " 76.40859904175868,\n",
       " 72.01421351414415,\n",
       " 74.30213997136643,\n",
       " 71.0912413886842,\n",
       " 67.37874591219538,\n",
       " 70.25040626117372,\n",
       " 68.75560365856282,\n",
       " 69.50608815898813,\n",
       " 71.21540423770831,\n",
       " 72.38415196015555,\n",
       " 72.3390641602455,\n",
       " 72.69551244426489,\n",
       " 74.87007119384434,\n",
       " 72.98048021112675,\n",
       " 71.42777955908835,\n",
       " 69.87649572684762,\n",
       " 72.17793503038835,\n",
       " 69.49743696382531,\n",
       " 71.35210241992607,\n",
       " 67.67406639370432,\n",
       " 70.04328126301002,\n",
       " 71.82238497139636,\n",
       " 72.50357886584133,\n",
       " 72.69129954784277,\n",
       " 71.43778388595801,\n",
       " 71.4903877705586,\n",
       " 69.64684020535937,\n",
       " 67.72985019566835,\n",
       " 72.98718888887821,\n",
       " 70.98514558117502,\n",
       " 71.8865237957905,\n",
       " 69.89984906352932,\n",
       " 73.13504378441908,\n",
       " 70.25651655437498,\n",
       " 73.60532737949592,\n",
       " 70.97529605998739,\n",
       " 71.68940575519622,\n",
       " 71.74739804412137,\n",
       " 71.57610784014707,\n",
       " 78.90018109799976,\n",
       " 70.70911497959683,\n",
       " 70.2668116073366,\n",
       " 75.06513996698888,\n",
       " 71.61693032021368,\n",
       " 72.14933619664998,\n",
       " 74.78189646251029,\n",
       " 71.66182364342038,\n",
       " 72.73023511064709,\n",
       " 71.76472937447147,\n",
       " 71.00183641786236,\n",
       " 71.72893261318869,\n",
       " 71.36061595891466,\n",
       " 75.36379806427486,\n",
       " 73.63271254170994,\n",
       " 70.02960112152526,\n",
       " 71.53943907509013,\n",
       " 69.76909252605428,\n",
       " 74.01586089927532,\n",
       " 71.17957291298646,\n",
       " 74.41319155924964,\n",
       " 73.5801647921186,\n",
       " 69.06713218070148,\n",
       " 71.12240390953188,\n",
       " 72.59872856896466,\n",
       " 76.3666258762861,\n",
       " 74.75988829639638]"
      ]
     },
     "execution_count": 66,
     "metadata": {},
     "output_type": "execute_result"
    }
   ],
   "source": [
    "model_scores"
   ]
  },
  {
   "cell_type": "code",
   "execution_count": 64,
   "metadata": {
    "slideshow": {
     "slide_type": "subslide"
    }
   },
   "outputs": [
    {
     "data": {
      "text/plain": [
       "<matplotlib.axes._subplots.AxesSubplot at 0x1a11320198>"
      ]
     },
     "execution_count": 64,
     "metadata": {},
     "output_type": "execute_result"
    },
    {
     "data": {
      "image/png": "[encoded data removed]",
      "text/plain": [
       "<Figure size 432x288 with 1 Axes>"
      ]
     },
     "metadata": {},
     "output_type": "display_data"
    }
   ],
   "source": [
    "plt.title('Evaluation Score Distribution')\n",
    "sns.distplot(model_scores, color=\"g\")"
   ]
  },
  {
   "cell_type": "markdown",
   "metadata": {
    "slideshow": {
     "slide_type": "subslide"
    }
   },
   "source": [
    "### Pros and Cons of Regression Evaluation Metrics\n",
    "RMSE is the better choice if we only care about model accuracy.  \n",
    "Any metric such like MAE which doesn’t take the square of the difference is more robust to outliers.  \n",
    "Any square of error term metric should be more useful when large errors are particularly undesirable.  "
   ]
  },
  {
   "cell_type": "markdown",
   "metadata": {
    "slideshow": {
     "slide_type": "slide"
    }
   },
   "source": [
    "## Statmodels"
   ]
  },
  {
   "cell_type": "markdown",
   "metadata": {
    "slideshow": {
     "slide_type": "subslide"
    }
   },
   "source": [
    "There is always the classical version of regression on a python implementation"
   ]
  },
  {
   "cell_type": "code",
   "execution_count": 67,
   "metadata": {
    "slideshow": {
     "slide_type": "fragment"
    }
   },
   "outputs": [],
   "source": [
    "import statsmodels.formula.api as sm"
   ]
  },
  {
   "cell_type": "code",
   "execution_count": 68,
   "metadata": {
    "slideshow": {
     "slide_type": "fragment"
    }
   },
   "outputs": [],
   "source": [
    "regressor_OLS = sm.OLS(endog = y, exog=X).fit()"
   ]
  },
  {
   "cell_type": "code",
   "execution_count": 69,
   "metadata": {
    "slideshow": {
     "slide_type": "fragment"
    }
   },
   "outputs": [
    {
     "data": {
      "text/html": [
       "<table class=\"simpletable\">\n",
       "<caption>OLS Regression Results</caption>\n",
       "<tr>\n",
       "  <th>Dep. Variable:</th>          <td>price</td>      <th>  R-squared:         </th>  <td>   0.843</td>  \n",
       "</tr>\n",
       "<tr>\n",
       "  <th>Model:</th>                   <td>OLS</td>       <th>  Adj. R-squared:    </th>  <td>   0.843</td>  \n",
       "</tr>\n",
       "<tr>\n",
       "  <th>Method:</th>             <td>Least Squares</td>  <th>  F-statistic:       </th>  <td>2.517e+04</td> \n",
       "</tr>\n",
       "<tr>\n",
       "  <th>Date:</th>             <td>Mon, 01 Apr 2019</td> <th>  Prob (F-statistic):</th>   <td>  0.00</td>   \n",
       "</tr>\n",
       "<tr>\n",
       "  <th>Time:</th>                 <td>11:43:47</td>     <th>  Log-Likelihood:    </th> <td>-1.0701e+05</td>\n",
       "</tr>\n",
       "<tr>\n",
       "  <th>No. Observations:</th>      <td> 18694</td>      <th>  AIC:               </th>  <td>2.140e+05</td> \n",
       "</tr>\n",
       "<tr>\n",
       "  <th>Df Residuals:</th>          <td> 18690</td>      <th>  BIC:               </th>  <td>2.141e+05</td> \n",
       "</tr>\n",
       "<tr>\n",
       "  <th>Df Model:</th>              <td>     4</td>      <th>                     </th>      <td> </td>     \n",
       "</tr>\n",
       "<tr>\n",
       "  <th>Covariance Type:</th>      <td>nonrobust</td>    <th>                     </th>      <td> </td>     \n",
       "</tr>\n",
       "</table>\n",
       "<table class=\"simpletable\">\n",
       "<tr>\n",
       "            <td></td>              <th>coef</th>     <th>std err</th>      <th>t</th>      <th>P>|t|</th>  <th>[0.025</th>    <th>0.975]</th>  \n",
       "</tr>\n",
       "<tr>\n",
       "  <th>reviews</th>              <td>   -0.1044</td> <td>    0.017</td> <td>   -6.107</td> <td> 0.000</td> <td>   -0.138</td> <td>   -0.071</td>\n",
       "</tr>\n",
       "<tr>\n",
       "  <th>overall_satisfaction</th> <td>    5.1452</td> <td>    0.222</td> <td>   23.125</td> <td> 0.000</td> <td>    4.709</td> <td>    5.581</td>\n",
       "</tr>\n",
       "<tr>\n",
       "  <th>accommodates</th>         <td>   36.3938</td> <td>    0.506</td> <td>   71.892</td> <td> 0.000</td> <td>   35.402</td> <td>   37.386</td>\n",
       "</tr>\n",
       "<tr>\n",
       "  <th>bedrooms</th>             <td>   26.0998</td> <td>    0.884</td> <td>   29.527</td> <td> 0.000</td> <td>   24.367</td> <td>   27.832</td>\n",
       "</tr>\n",
       "</table>\n",
       "<table class=\"simpletable\">\n",
       "<tr>\n",
       "  <th>Omnibus:</th>       <td>7442.954</td> <th>  Durbin-Watson:     </th> <td>   1.019</td> \n",
       "</tr>\n",
       "<tr>\n",
       "  <th>Prob(Omnibus):</th>  <td> 0.000</td>  <th>  Jarque-Bera (JB):  </th> <td>89616.171</td>\n",
       "</tr>\n",
       "<tr>\n",
       "  <th>Skew:</th>           <td> 1.575</td>  <th>  Prob(JB):          </th> <td>    0.00</td> \n",
       "</tr>\n",
       "<tr>\n",
       "  <th>Kurtosis:</th>       <td>13.253</td>  <th>  Cond. No.          </th> <td>    68.9</td> \n",
       "</tr>\n",
       "</table><br/><br/>Warnings:<br/>[1] Standard Errors assume that the covariance matrix of the errors is correctly specified."
      ],
      "text/plain": [
       "<class 'statsmodels.iolib.summary.Summary'>\n",
       "\"\"\"\n",
       "                            OLS Regression Results                            \n",
       "==============================================================================\n",
       "Dep. Variable:                  price   R-squared:                       0.843\n",
       "Model:                            OLS   Adj. R-squared:                  0.843\n",
       "Method:                 Least Squares   F-statistic:                 2.517e+04\n",
       "Date:                Mon, 01 Apr 2019   Prob (F-statistic):               0.00\n",
       "Time:                        11:43:47   Log-Likelihood:            -1.0701e+05\n",
       "No. Observations:               18694   AIC:                         2.140e+05\n",
       "Df Residuals:                   18690   BIC:                         2.141e+05\n",
       "Df Model:                           4                                         \n",
       "Covariance Type:            nonrobust                                         \n",
       "========================================================================================\n",
       "                           coef    std err          t      P>|t|      [0.025      0.975]\n",
       "----------------------------------------------------------------------------------------\n",
       "reviews                 -0.1044      0.017     -6.107      0.000      -0.138      -0.071\n",
       "overall_satisfaction     5.1452      0.222     23.125      0.000       4.709       5.581\n",
       "accommodates            36.3938      0.506     71.892      0.000      35.402      37.386\n",
       "bedrooms                26.0998      0.884     29.527      0.000      24.367      27.832\n",
       "==============================================================================\n",
       "Omnibus:                     7442.954   Durbin-Watson:                   1.019\n",
       "Prob(Omnibus):                  0.000   Jarque-Bera (JB):            89616.171\n",
       "Skew:                           1.575   Prob(JB):                         0.00\n",
       "Kurtosis:                      13.253   Cond. No.                         68.9\n",
       "==============================================================================\n",
       "\n",
       "Warnings:\n",
       "[1] Standard Errors assume that the covariance matrix of the errors is correctly specified.\n",
       "\"\"\""
      ]
     },
     "execution_count": 69,
     "metadata": {},
     "output_type": "execute_result"
    }
   ],
   "source": [
    "regressor_OLS.summary()"
   ]
  }
 ],
 "metadata": {
  "celltoolbar": "Slideshow",
  "kernelspec": {
   "display_name": "Python 3",
   "language": "python",
   "name": "python3"
  },
  "language_info": {
   "codemirror_mode": {
    "name": "ipython",
    "version": 3
   },
   "file_extension": ".py",
   "mimetype": "text/x-python",
   "name": "python",
   "nbconvert_exporter": "python",
   "pygments_lexer": "ipython3",
   "version": "3.6.8"
  },
  "latex_envs": {
   "LaTeX_envs_menu_present": true,
   "autoclose": false,
   "autocomplete": true,
   "bibliofile": "biblio.bib",
   "cite_by": "apalike",
   "current_citInitial": 1,
   "eqLabelWithNumbers": true,
   "eqNumInitial": 1,
   "hotkeys": {
    "equation": "Ctrl-E",
    "itemize": "Ctrl-I"
   },
   "labels_anchors": false,
   "latex_user_defs": false,
   "report_style_numbering": false,
   "user_envs_cfg": false
  }
 },
 "nbformat": 4,
 "nbformat_minor": 2
}
